{
 "cells": [
  {
   "cell_type": "code",
   "execution_count": 1,
   "id": "e038c161",
   "metadata": {
    "_cell_guid": "b1076dfc-b9ad-4769-8c92-a6c4dae69d19",
    "_uuid": "8f2839f25d086af736a60e9eeb907d3b93b6e0e5",
    "execution": {
     "iopub.execute_input": "2022-04-03T22:48:04.975045Z",
     "iopub.status.busy": "2022-04-03T22:48:04.971024Z",
     "iopub.status.idle": "2022-04-03T22:48:06.234121Z",
     "shell.execute_reply": "2022-04-03T22:48:06.233253Z",
     "shell.execute_reply.started": "2022-04-03T22:46:43.715776Z"
    },
    "papermill": {
     "duration": 1.289869,
     "end_time": "2022-04-03T22:48:06.234300",
     "exception": false,
     "start_time": "2022-04-03T22:48:04.944431",
     "status": "completed"
    },
    "tags": []
   },
   "outputs": [
    {
     "name": "stdout",
     "output_type": "stream",
     "text": [
      "/kaggle/input/breast-cancer-coimbra-data-set/dataR2.csv\n",
      "/kaggle/input/water-potability/water_potability.csv\n"
     ]
    }
   ],
   "source": [
    "# This Python 3 environment comes with many helpful analytics libraries installed\n",
    "# It is defined by the kaggle/python Docker image: https://github.com/kaggle/docker-python\n",
    "# For example, here's several helpful packages to load\n",
    "\n",
    "import numpy as np # linear algebra\n",
    "import pandas as pd # data processing, CSV file I/O (e.g. pd.read_csv)\n",
    "from sklearn.preprocessing import LabelEncoder\n",
    "from sklearn.preprocessing import MinMaxScaler\n",
    "from sklearn.ensemble import RandomForestClassifier\n",
    "from sklearn.model_selection import cross_val_score\n",
    "from sklearn.model_selection  import train_test_split\n",
    "from sklearn.neighbors import KNeighborsClassifier,KNeighborsRegressor\n",
    "from sklearn.decomposition import PCA\n",
    "from sklearn import preprocessing\n",
    "from sklearn.metrics import classification_report,confusion_matrix, accuracy_score\n",
    "from sklearn import metrics\n",
    "\n",
    "# Input data files are available in the read-only \"../input/\" directory\n",
    "# For example, running this (by clicking run or pressing Shift+Enter) will list all files under the input directory\n",
    "\n",
    "import os\n",
    "for dirname, _, filenames in os.walk('/kaggle/input'):\n",
    "    for filename in filenames:\n",
    "        print(os.path.join(dirname, filename))\n",
    "\n",
    "# You can write up to 20GB to the current directory (/kaggle/working/) that gets preserved as output when you create a version using \"Save & Run All\" \n",
    "# You can also write temporary files to /kaggle/temp/, but they won't be saved outside of the current session\n",
    "\n"
   ]
  },
  {
   "cell_type": "markdown",
   "id": "955fc3b6",
   "metadata": {
    "papermill": {
     "duration": 0.017665,
     "end_time": "2022-04-03T22:48:06.272256",
     "exception": false,
     "start_time": "2022-04-03T22:48:06.254591",
     "status": "completed"
    },
    "tags": []
   },
   "source": [
    "# Veri Ön İşlemesi"
   ]
  },
  {
   "cell_type": "code",
   "execution_count": 2,
   "id": "f0d50ca4",
   "metadata": {
    "execution": {
     "iopub.execute_input": "2022-04-03T22:48:06.312915Z",
     "iopub.status.busy": "2022-04-03T22:48:06.312332Z",
     "iopub.status.idle": "2022-04-03T22:48:06.351214Z",
     "shell.execute_reply": "2022-04-03T22:48:06.351847Z",
     "shell.execute_reply.started": "2022-04-03T22:46:43.749476Z"
    },
    "papermill": {
     "duration": 0.061555,
     "end_time": "2022-04-03T22:48:06.352015",
     "exception": false,
     "start_time": "2022-04-03T22:48:06.290460",
     "status": "completed"
    },
    "tags": []
   },
   "outputs": [
    {
     "name": "stdout",
     "output_type": "stream",
     "text": [
      "            ph    Hardness        Solids  Chloramines     Sulfate  \\\n",
      "0          NaN  204.890455  20791.318981     7.300212  368.516441   \n",
      "1     3.716080  129.422921  18630.057858     6.635246         NaN   \n",
      "2     8.099124  224.236259  19909.541732     9.275884         NaN   \n",
      "3     8.316766  214.373394  22018.417441     8.059332  356.886136   \n",
      "4     9.092223  181.101509  17978.986339     6.546600  310.135738   \n",
      "...        ...         ...           ...          ...         ...   \n",
      "3271  4.668102  193.681735  47580.991603     7.166639  359.948574   \n",
      "3272  7.808856  193.553212  17329.802160     8.061362         NaN   \n",
      "3273  9.419510  175.762646  33155.578218     7.350233         NaN   \n",
      "3274  5.126763  230.603758  11983.869376     6.303357         NaN   \n",
      "3275  7.874671  195.102299  17404.177061     7.509306         NaN   \n",
      "\n",
      "      Conductivity  Organic_carbon  Trihalomethanes  Turbidity  Potability  \n",
      "0       564.308654       10.379783        86.990970   2.963135           0  \n",
      "1       592.885359       15.180013        56.329076   4.500656           0  \n",
      "2       418.606213       16.868637        66.420093   3.055934           0  \n",
      "3       363.266516       18.436524       100.341674   4.628771           0  \n",
      "4       398.410813       11.558279        31.997993   4.075075           0  \n",
      "...            ...             ...              ...        ...         ...  \n",
      "3271    526.424171       13.894419        66.687695   4.435821           1  \n",
      "3272    392.449580       19.903225              NaN   2.798243           1  \n",
      "3273    432.044783       11.039070        69.845400   3.298875           1  \n",
      "3274    402.883113       11.168946        77.488213   4.708658           1  \n",
      "3275    327.459760       16.140368        78.698446   2.309149           1  \n",
      "\n",
      "[3276 rows x 10 columns]\n"
     ]
    }
   ],
   "source": [
    "df = pd.read_csv('../input/water-potability/water_potability.csv')\n",
    "print(df)"
   ]
  },
  {
   "cell_type": "markdown",
   "id": "4849cc51",
   "metadata": {
    "papermill": {
     "duration": 0.017721,
     "end_time": "2022-04-03T22:48:06.388786",
     "exception": false,
     "start_time": "2022-04-03T22:48:06.371065",
     "status": "completed"
    },
    "tags": []
   },
   "source": [
    "## b)Veri setinde tanımlı olmayan değerler bulmaya çalışıyoruz"
   ]
  },
  {
   "cell_type": "code",
   "execution_count": 3,
   "id": "aaa2e33c",
   "metadata": {
    "execution": {
     "iopub.execute_input": "2022-04-03T22:48:06.431473Z",
     "iopub.status.busy": "2022-04-03T22:48:06.429233Z",
     "iopub.status.idle": "2022-04-03T22:48:06.438527Z",
     "shell.execute_reply": "2022-04-03T22:48:06.438962Z",
     "shell.execute_reply.started": "2022-04-03T22:46:43.796379Z"
    },
    "papermill": {
     "duration": 0.032326,
     "end_time": "2022-04-03T22:48:06.439147",
     "exception": false,
     "start_time": "2022-04-03T22:48:06.406821",
     "status": "completed"
    },
    "tags": []
   },
   "outputs": [
    {
     "data": {
      "text/plain": [
       "ph                 491\n",
       "Hardness             0\n",
       "Solids               0\n",
       "Chloramines          0\n",
       "Sulfate            781\n",
       "Conductivity         0\n",
       "Organic_carbon       0\n",
       "Trihalomethanes    162\n",
       "Turbidity            0\n",
       "Potability           0\n",
       "dtype: int64"
      ]
     },
     "execution_count": 3,
     "metadata": {},
     "output_type": "execute_result"
    }
   ],
   "source": [
    "df.isnull().sum()"
   ]
  },
  {
   "cell_type": "markdown",
   "id": "1a14594b",
   "metadata": {
    "papermill": {
     "duration": 0.018218,
     "end_time": "2022-04-03T22:48:06.475938",
     "exception": false,
     "start_time": "2022-04-03T22:48:06.457720",
     "status": "completed"
    },
    "tags": []
   },
   "source": [
    "## boş değerleri kaldırıyoruz."
   ]
  },
  {
   "cell_type": "code",
   "execution_count": 4,
   "id": "a09dc8ef",
   "metadata": {
    "execution": {
     "iopub.execute_input": "2022-04-03T22:48:06.515850Z",
     "iopub.status.busy": "2022-04-03T22:48:06.515282Z",
     "iopub.status.idle": "2022-04-03T22:48:06.535634Z",
     "shell.execute_reply": "2022-04-03T22:48:06.536244Z",
     "shell.execute_reply.started": "2022-04-03T22:46:43.965245Z"
    },
    "papermill": {
     "duration": 0.041939,
     "end_time": "2022-04-03T22:48:06.536414",
     "exception": false,
     "start_time": "2022-04-03T22:48:06.494475",
     "status": "completed"
    },
    "tags": []
   },
   "outputs": [
    {
     "name": "stdout",
     "output_type": "stream",
     "text": [
      "             ph    Hardness        Solids  Chloramines     Sulfate  \\\n",
      "3      8.316766  214.373394  22018.417441     8.059332  356.886136   \n",
      "4      9.092223  181.101509  17978.986339     6.546600  310.135738   \n",
      "5      5.584087  188.313324  28748.687739     7.544869  326.678363   \n",
      "6     10.223862  248.071735  28749.716544     7.513408  393.663396   \n",
      "7      8.635849  203.361523  13672.091764     4.563009  303.309771   \n",
      "...         ...         ...           ...          ...         ...   \n",
      "3267   8.989900  215.047358  15921.412018     6.297312  312.931022   \n",
      "3268   6.702547  207.321086  17246.920347     7.708117  304.510230   \n",
      "3269  11.491011   94.812545  37188.826022     9.263166  258.930600   \n",
      "3270   6.069616  186.659040  26138.780191     7.747547  345.700257   \n",
      "3271   4.668102  193.681735  47580.991603     7.166639  359.948574   \n",
      "\n",
      "      Conductivity  Organic_carbon  Trihalomethanes  Turbidity  Potability  \n",
      "3       363.266516       18.436524       100.341674   4.628771           0  \n",
      "4       398.410813       11.558279        31.997993   4.075075           0  \n",
      "5       280.467916        8.399735        54.917862   2.559708           0  \n",
      "6       283.651634       13.789695        84.603556   2.672989           0  \n",
      "7       474.607645       12.363817        62.798309   4.401425           0  \n",
      "...            ...             ...              ...        ...         ...  \n",
      "3267    390.410231        9.899115        55.069304   4.613843           1  \n",
      "3268    329.266002       16.217303        28.878601   3.442983           1  \n",
      "3269    439.893618       16.172755        41.558501   4.369264           1  \n",
      "3270    415.886955       12.067620        60.419921   3.669712           1  \n",
      "3271    526.424171       13.894419        66.687695   4.435821           1  \n",
      "\n",
      "[2011 rows x 10 columns]\n"
     ]
    },
    {
     "data": {
      "text/plain": [
       "ph                 0\n",
       "Hardness           0\n",
       "Solids             0\n",
       "Chloramines        0\n",
       "Sulfate            0\n",
       "Conductivity       0\n",
       "Organic_carbon     0\n",
       "Trihalomethanes    0\n",
       "Turbidity          0\n",
       "Potability         0\n",
       "dtype: int64"
      ]
     },
     "execution_count": 4,
     "metadata": {},
     "output_type": "execute_result"
    }
   ],
   "source": [
    "fulldf=df.dropna()\n",
    "print(fulldf)\n",
    "fulldf.isnull().sum()"
   ]
  },
  {
   "cell_type": "markdown",
   "id": "88933ab2",
   "metadata": {
    "papermill": {
     "duration": 0.019664,
     "end_time": "2022-04-03T22:48:06.575299",
     "exception": false,
     "start_time": "2022-04-03T22:48:06.555635",
     "status": "completed"
    },
    "tags": []
   },
   "source": [
    "## Veri normalize ediliyor"
   ]
  },
  {
   "cell_type": "code",
   "execution_count": 5,
   "id": "283939c9",
   "metadata": {
    "execution": {
     "iopub.execute_input": "2022-04-03T22:48:06.618031Z",
     "iopub.status.busy": "2022-04-03T22:48:06.617411Z",
     "iopub.status.idle": "2022-04-03T22:48:06.637833Z",
     "shell.execute_reply": "2022-04-03T22:48:06.637337Z",
     "shell.execute_reply.started": "2022-04-03T22:46:44.007728Z"
    },
    "papermill": {
     "duration": 0.042928,
     "end_time": "2022-04-03T22:48:06.637988",
     "exception": false,
     "start_time": "2022-04-03T22:48:06.595060",
     "status": "completed"
    },
    "tags": []
   },
   "outputs": [
    {
     "data": {
      "text/html": [
       "<div>\n",
       "<style scoped>\n",
       "    .dataframe tbody tr th:only-of-type {\n",
       "        vertical-align: middle;\n",
       "    }\n",
       "\n",
       "    .dataframe tbody tr th {\n",
       "        vertical-align: top;\n",
       "    }\n",
       "\n",
       "    .dataframe thead th {\n",
       "        text-align: right;\n",
       "    }\n",
       "</style>\n",
       "<table border=\"1\" class=\"dataframe\">\n",
       "  <thead>\n",
       "    <tr style=\"text-align: right;\">\n",
       "      <th></th>\n",
       "      <th>ph</th>\n",
       "      <th>Hardness</th>\n",
       "      <th>Solids</th>\n",
       "      <th>Chloramines</th>\n",
       "      <th>Sulfate</th>\n",
       "      <th>Conductivity</th>\n",
       "      <th>Organic_carbon</th>\n",
       "      <th>Trihalomethanes</th>\n",
       "      <th>Turbidity</th>\n",
       "      <th>Potability</th>\n",
       "    </tr>\n",
       "  </thead>\n",
       "  <tbody>\n",
       "    <tr>\n",
       "      <th>0</th>\n",
       "      <td>0.587349</td>\n",
       "      <td>0.577747</td>\n",
       "      <td>0.386298</td>\n",
       "      <td>0.568199</td>\n",
       "      <td>0.647347</td>\n",
       "      <td>0.292985</td>\n",
       "      <td>0.654522</td>\n",
       "      <td>0.795029</td>\n",
       "      <td>0.630115</td>\n",
       "      <td>0.0</td>\n",
       "    </tr>\n",
       "    <tr>\n",
       "      <th>1</th>\n",
       "      <td>0.643654</td>\n",
       "      <td>0.441300</td>\n",
       "      <td>0.314381</td>\n",
       "      <td>0.439304</td>\n",
       "      <td>0.514545</td>\n",
       "      <td>0.356685</td>\n",
       "      <td>0.377248</td>\n",
       "      <td>0.202914</td>\n",
       "      <td>0.520358</td>\n",
       "      <td>0.0</td>\n",
       "    </tr>\n",
       "    <tr>\n",
       "      <th>2</th>\n",
       "      <td>0.388934</td>\n",
       "      <td>0.470876</td>\n",
       "      <td>0.506122</td>\n",
       "      <td>0.524364</td>\n",
       "      <td>0.561537</td>\n",
       "      <td>0.142913</td>\n",
       "      <td>0.249922</td>\n",
       "      <td>0.401487</td>\n",
       "      <td>0.219973</td>\n",
       "      <td>0.0</td>\n",
       "    </tr>\n",
       "    <tr>\n",
       "      <th>3</th>\n",
       "      <td>0.725820</td>\n",
       "      <td>0.715942</td>\n",
       "      <td>0.506141</td>\n",
       "      <td>0.521683</td>\n",
       "      <td>0.751819</td>\n",
       "      <td>0.148683</td>\n",
       "      <td>0.467200</td>\n",
       "      <td>0.658678</td>\n",
       "      <td>0.242428</td>\n",
       "      <td>0.0</td>\n",
       "    </tr>\n",
       "    <tr>\n",
       "      <th>4</th>\n",
       "      <td>0.610517</td>\n",
       "      <td>0.532588</td>\n",
       "      <td>0.237701</td>\n",
       "      <td>0.270288</td>\n",
       "      <td>0.495155</td>\n",
       "      <td>0.494792</td>\n",
       "      <td>0.409721</td>\n",
       "      <td>0.469762</td>\n",
       "      <td>0.585049</td>\n",
       "      <td>0.0</td>\n",
       "    </tr>\n",
       "  </tbody>\n",
       "</table>\n",
       "</div>"
      ],
      "text/plain": [
       "         ph  Hardness    Solids  Chloramines   Sulfate  Conductivity  \\\n",
       "0  0.587349  0.577747  0.386298     0.568199  0.647347      0.292985   \n",
       "1  0.643654  0.441300  0.314381     0.439304  0.514545      0.356685   \n",
       "2  0.388934  0.470876  0.506122     0.524364  0.561537      0.142913   \n",
       "3  0.725820  0.715942  0.506141     0.521683  0.751819      0.148683   \n",
       "4  0.610517  0.532588  0.237701     0.270288  0.495155      0.494792   \n",
       "\n",
       "   Organic_carbon  Trihalomethanes  Turbidity  Potability  \n",
       "0        0.654522         0.795029   0.630115         0.0  \n",
       "1        0.377248         0.202914   0.520358         0.0  \n",
       "2        0.249922         0.401487   0.219973         0.0  \n",
       "3        0.467200         0.658678   0.242428         0.0  \n",
       "4        0.409721         0.469762   0.585049         0.0  "
      ]
     },
     "execution_count": 5,
     "metadata": {},
     "output_type": "execute_result"
    }
   ],
   "source": [
    "scaler = MinMaxScaler()\n",
    "data = scaler.fit_transform(fulldf)\n",
    "data = pd.DataFrame(data = data,columns = fulldf.columns)\n",
    "data.head()"
   ]
  },
  {
   "cell_type": "markdown",
   "id": "220f1d9f",
   "metadata": {
    "papermill": {
     "duration": 0.020143,
     "end_time": "2022-04-03T22:48:06.678370",
     "exception": false,
     "start_time": "2022-04-03T22:48:06.658227",
     "status": "completed"
    },
    "tags": []
   },
   "source": [
    "## Test ve train datası için kolonları ayrılır."
   ]
  },
  {
   "cell_type": "code",
   "execution_count": 6,
   "id": "a3e30dad",
   "metadata": {
    "execution": {
     "iopub.execute_input": "2022-04-03T22:48:06.723410Z",
     "iopub.status.busy": "2022-04-03T22:48:06.722750Z",
     "iopub.status.idle": "2022-04-03T22:48:06.724971Z",
     "shell.execute_reply": "2022-04-03T22:48:06.725488Z",
     "shell.execute_reply.started": "2022-04-03T22:46:44.027948Z"
    },
    "papermill": {
     "duration": 0.027017,
     "end_time": "2022-04-03T22:48:06.725658",
     "exception": false,
     "start_time": "2022-04-03T22:48:06.698641",
     "status": "completed"
    },
    "tags": []
   },
   "outputs": [],
   "source": [
    "x = data.iloc[:,0:9]\n",
    "y = data.iloc[:,-1]\n"
   ]
  },
  {
   "cell_type": "markdown",
   "id": "357d4689",
   "metadata": {
    "papermill": {
     "duration": 0.019557,
     "end_time": "2022-04-03T22:48:06.765160",
     "exception": false,
     "start_time": "2022-04-03T22:48:06.745603",
     "status": "completed"
    },
    "tags": []
   },
   "source": [
    "## Temel bileşen analizine normalize edilmiş veri uygulanır."
   ]
  },
  {
   "cell_type": "code",
   "execution_count": 7,
   "id": "a663d9c4",
   "metadata": {
    "execution": {
     "iopub.execute_input": "2022-04-03T22:48:06.812089Z",
     "iopub.status.busy": "2022-04-03T22:48:06.811492Z",
     "iopub.status.idle": "2022-04-03T22:48:06.832123Z",
     "shell.execute_reply": "2022-04-03T22:48:06.832624Z",
     "shell.execute_reply.started": "2022-04-03T22:46:44.058972Z"
    },
    "papermill": {
     "duration": 0.047468,
     "end_time": "2022-04-03T22:48:06.832809",
     "exception": false,
     "start_time": "2022-04-03T22:48:06.785341",
     "status": "completed"
    },
    "tags": []
   },
   "outputs": [],
   "source": [
    "pca = PCA(0.90) \n",
    "pca.fit(x)\n",
    "x_pca = pca.transform(x)"
   ]
  },
  {
   "cell_type": "markdown",
   "id": "afbaed21",
   "metadata": {
    "papermill": {
     "duration": 0.02075,
     "end_time": "2022-04-03T22:48:06.874267",
     "exception": false,
     "start_time": "2022-04-03T22:48:06.853517",
     "status": "completed"
    },
    "tags": []
   },
   "source": [
    "## Temel bileşen analizi sonrasında kolon sayımız"
   ]
  },
  {
   "cell_type": "code",
   "execution_count": 8,
   "id": "50d0b9c9",
   "metadata": {
    "execution": {
     "iopub.execute_input": "2022-04-03T22:48:06.921644Z",
     "iopub.status.busy": "2022-04-03T22:48:06.920993Z",
     "iopub.status.idle": "2022-04-03T22:48:06.924336Z",
     "shell.execute_reply": "2022-04-03T22:48:06.924934Z",
     "shell.execute_reply.started": "2022-04-03T22:46:44.070868Z"
    },
    "papermill": {
     "duration": 0.030785,
     "end_time": "2022-04-03T22:48:06.925107",
     "exception": false,
     "start_time": "2022-04-03T22:48:06.894322",
     "status": "completed"
    },
    "tags": []
   },
   "outputs": [
    {
     "data": {
      "text/plain": [
       "(2011, 8)"
      ]
     },
     "execution_count": 8,
     "metadata": {},
     "output_type": "execute_result"
    }
   ],
   "source": [
    "x_pca.shape"
   ]
  },
  {
   "cell_type": "markdown",
   "id": "3fbe823b",
   "metadata": {
    "papermill": {
     "duration": 0.020398,
     "end_time": "2022-04-03T22:48:06.966001",
     "exception": false,
     "start_time": "2022-04-03T22:48:06.945603",
     "status": "completed"
    },
    "tags": []
   },
   "source": [
    "## Test ve train datası ayrılıyor"
   ]
  },
  {
   "cell_type": "code",
   "execution_count": 9,
   "id": "66351abb",
   "metadata": {
    "execution": {
     "iopub.execute_input": "2022-04-03T22:48:07.010790Z",
     "iopub.status.busy": "2022-04-03T22:48:07.010132Z",
     "iopub.status.idle": "2022-04-03T22:48:07.015135Z",
     "shell.execute_reply": "2022-04-03T22:48:07.015728Z",
     "shell.execute_reply.started": "2022-04-03T22:46:44.088891Z"
    },
    "papermill": {
     "duration": 0.029163,
     "end_time": "2022-04-03T22:48:07.015914",
     "exception": false,
     "start_time": "2022-04-03T22:48:06.986751",
     "status": "completed"
    },
    "tags": []
   },
   "outputs": [],
   "source": [
    "x_train,x_test,y_train,y_test = train_test_split(x_pca,y,test_size=0.3,random_state=400)"
   ]
  },
  {
   "cell_type": "markdown",
   "id": "2d3a1e90",
   "metadata": {
    "papermill": {
     "duration": 0.020739,
     "end_time": "2022-04-03T22:48:07.057211",
     "exception": false,
     "start_time": "2022-04-03T22:48:07.036472",
     "status": "completed"
    },
    "tags": []
   },
   "source": [
    "## KNN uygulanıyor."
   ]
  },
  {
   "cell_type": "code",
   "execution_count": 10,
   "id": "6066e8e7",
   "metadata": {
    "execution": {
     "iopub.execute_input": "2022-04-03T22:48:07.103994Z",
     "iopub.status.busy": "2022-04-03T22:48:07.103406Z",
     "iopub.status.idle": "2022-04-03T22:48:07.115299Z",
     "shell.execute_reply": "2022-04-03T22:48:07.115706Z",
     "shell.execute_reply.started": "2022-04-03T22:46:44.131755Z"
    },
    "papermill": {
     "duration": 0.035701,
     "end_time": "2022-04-03T22:48:07.115862",
     "exception": false,
     "start_time": "2022-04-03T22:48:07.080161",
     "status": "completed"
    },
    "tags": []
   },
   "outputs": [
    {
     "data": {
      "text/plain": [
       "KNeighborsClassifier()"
      ]
     },
     "execution_count": 10,
     "metadata": {},
     "output_type": "execute_result"
    }
   ],
   "source": [
    "knn = KNeighborsClassifier(n_neighbors=5)\n",
    "knn.fit(x_train,y_train.ravel())"
   ]
  },
  {
   "cell_type": "markdown",
   "id": "9210b571",
   "metadata": {
    "papermill": {
     "duration": 0.020129,
     "end_time": "2022-04-03T22:48:07.156992",
     "exception": false,
     "start_time": "2022-04-03T22:48:07.136863",
     "status": "completed"
    },
    "tags": []
   },
   "source": [
    "# Sonuç\n"
   ]
  },
  {
   "cell_type": "code",
   "execution_count": 11,
   "id": "a3f1737a",
   "metadata": {
    "execution": {
     "iopub.execute_input": "2022-04-03T22:48:07.204989Z",
     "iopub.status.busy": "2022-04-03T22:48:07.204375Z",
     "iopub.status.idle": "2022-04-03T22:48:07.246912Z",
     "shell.execute_reply": "2022-04-03T22:48:07.246177Z",
     "shell.execute_reply.started": "2022-04-03T22:46:44.204018Z"
    },
    "papermill": {
     "duration": 0.06896,
     "end_time": "2022-04-03T22:48:07.247128",
     "exception": false,
     "start_time": "2022-04-03T22:48:07.178168",
     "status": "completed"
    },
    "tags": []
   },
   "outputs": [
    {
     "name": "stdout",
     "output_type": "stream",
     "text": [
      "              precision    recall  f1-score   support\n",
      "\n",
      "         0.0       0.64      0.72      0.68       368\n",
      "         1.0       0.46      0.37      0.41       236\n",
      "\n",
      "    accuracy                           0.58       604\n",
      "   macro avg       0.55      0.55      0.54       604\n",
      "weighted avg       0.57      0.58      0.57       604\n",
      "\n"
     ]
    }
   ],
   "source": [
    "result = knn.predict(x_test)\n",
    "print(metrics.classification_report(y_test,result))"
   ]
  }
 ],
 "metadata": {
  "kernelspec": {
   "display_name": "Python 3",
   "language": "python",
   "name": "python3"
  },
  "language_info": {
   "codemirror_mode": {
    "name": "ipython",
    "version": 3
   },
   "file_extension": ".py",
   "mimetype": "text/x-python",
   "name": "python",
   "nbconvert_exporter": "python",
   "pygments_lexer": "ipython3",
   "version": "3.7.12"
  },
  "papermill": {
   "default_parameters": {},
   "duration": 12.125675,
   "end_time": "2022-04-03T22:48:07.978714",
   "environment_variables": {},
   "exception": null,
   "input_path": "__notebook__.ipynb",
   "output_path": "__notebook__.ipynb",
   "parameters": {},
   "start_time": "2022-04-03T22:47:55.853039",
   "version": "2.3.3"
  }
 },
 "nbformat": 4,
 "nbformat_minor": 5
}
