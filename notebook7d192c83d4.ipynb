{
 "cells": [
  {
   "cell_type": "code",
   "execution_count": 1,
   "id": "cdc7a455",
   "metadata": {
    "_cell_guid": "b1076dfc-b9ad-4769-8c92-a6c4dae69d19",
    "_uuid": "8f2839f25d086af736a60e9eeb907d3b93b6e0e5",
    "execution": {
     "iopub.execute_input": "2022-04-04T16:13:07.275711Z",
     "iopub.status.busy": "2022-04-04T16:13:07.274065Z",
     "iopub.status.idle": "2022-04-04T16:13:08.763105Z",
     "shell.execute_reply": "2022-04-04T16:13:08.763648Z",
     "shell.execute_reply.started": "2022-04-04T16:11:13.606287Z"
    },
    "papermill": {
     "duration": 1.513208,
     "end_time": "2022-04-04T16:13:08.764017",
     "exception": false,
     "start_time": "2022-04-04T16:13:07.250809",
     "status": "completed"
    },
    "tags": []
   },
   "outputs": [
    {
     "name": "stdout",
     "output_type": "stream",
     "text": [
      "/kaggle/input/water-potability/water_potability.csv\n",
      "/kaggle/input/breast-cancer-coimbra-data-set/dataR2.csv\n"
     ]
    }
   ],
   "source": [
    "# This Python 3 environment comes with many helpful analytics libraries installed\n",
    "# It is defined by the kaggle/python Docker image: https://github.com/kaggle/docker-python\n",
    "# For example, here's several helpful packages to load\n",
    "\n",
    "import numpy as np # linear algebra\n",
    "import pandas as pd # data processing, CSV file I/O (e.g. pd.read_csv)\n",
    "from sklearn.preprocessing import LabelEncoder\n",
    "from sklearn.preprocessing import MinMaxScaler\n",
    "from sklearn.ensemble import RandomForestClassifier\n",
    "from sklearn.model_selection import cross_val_score\n",
    "from sklearn.model_selection  import train_test_split\n",
    "from sklearn.neighbors import KNeighborsClassifier,KNeighborsRegressor\n",
    "from sklearn.decomposition import PCA\n",
    "from sklearn import preprocessing\n",
    "from sklearn.metrics import classification_report,confusion_matrix, accuracy_score\n",
    "from sklearn import metrics\n",
    "\n",
    "# Input data files are available in the read-only \"../input/\" directory\n",
    "# For example, running this (by clicking run or pressing Shift+Enter) will list all files under the input directory\n",
    "\n",
    "import os\n",
    "for dirname, _, filenames in os.walk('/kaggle/input'):\n",
    "    for filename in filenames:\n",
    "        print(os.path.join(dirname, filename))\n",
    "\n",
    "# You can write up to 20GB to the current directory (/kaggle/working/) that gets preserved as output when you create a version using \"Save & Run All\" \n",
    "# You can also write temporary files to /kaggle/temp/, but they won't be saved outside of the current session\n",
    "\n"
   ]
  },
  {
   "cell_type": "markdown",
   "id": "1e1cd66d",
   "metadata": {
    "papermill": {
     "duration": 0.018677,
     "end_time": "2022-04-04T16:13:08.802016",
     "exception": false,
     "start_time": "2022-04-04T16:13:08.783339",
     "status": "completed"
    },
    "tags": []
   },
   "source": [
    "# Veri Ön İşlemesi"
   ]
  },
  {
   "cell_type": "code",
   "execution_count": 2,
   "id": "41fc64de",
   "metadata": {
    "execution": {
     "iopub.execute_input": "2022-04-04T16:13:08.847126Z",
     "iopub.status.busy": "2022-04-04T16:13:08.846055Z",
     "iopub.status.idle": "2022-04-04T16:13:08.897357Z",
     "shell.execute_reply": "2022-04-04T16:13:08.897984Z",
     "shell.execute_reply.started": "2022-04-04T16:11:13.623281Z"
    },
    "papermill": {
     "duration": 0.074214,
     "end_time": "2022-04-04T16:13:08.898195",
     "exception": false,
     "start_time": "2022-04-04T16:13:08.823981",
     "status": "completed"
    },
    "tags": []
   },
   "outputs": [
    {
     "name": "stdout",
     "output_type": "stream",
     "text": [
      "            ph    Hardness        Solids  Chloramines     Sulfate  \\\n",
      "0          NaN  204.890455  20791.318981     7.300212  368.516441   \n",
      "1     3.716080  129.422921  18630.057858     6.635246         NaN   \n",
      "2     8.099124  224.236259  19909.541732     9.275884         NaN   \n",
      "3     8.316766  214.373394  22018.417441     8.059332  356.886136   \n",
      "4     9.092223  181.101509  17978.986339     6.546600  310.135738   \n",
      "...        ...         ...           ...          ...         ...   \n",
      "3271  4.668102  193.681735  47580.991603     7.166639  359.948574   \n",
      "3272  7.808856  193.553212  17329.802160     8.061362         NaN   \n",
      "3273  9.419510  175.762646  33155.578218     7.350233         NaN   \n",
      "3274  5.126763  230.603758  11983.869376     6.303357         NaN   \n",
      "3275  7.874671  195.102299  17404.177061     7.509306         NaN   \n",
      "\n",
      "      Conductivity  Organic_carbon  Trihalomethanes  Turbidity  Potability  \n",
      "0       564.308654       10.379783        86.990970   2.963135           0  \n",
      "1       592.885359       15.180013        56.329076   4.500656           0  \n",
      "2       418.606213       16.868637        66.420093   3.055934           0  \n",
      "3       363.266516       18.436524       100.341674   4.628771           0  \n",
      "4       398.410813       11.558279        31.997993   4.075075           0  \n",
      "...            ...             ...              ...        ...         ...  \n",
      "3271    526.424171       13.894419        66.687695   4.435821           1  \n",
      "3272    392.449580       19.903225              NaN   2.798243           1  \n",
      "3273    432.044783       11.039070        69.845400   3.298875           1  \n",
      "3274    402.883113       11.168946        77.488213   4.708658           1  \n",
      "3275    327.459760       16.140368        78.698446   2.309149           1  \n",
      "\n",
      "[3276 rows x 10 columns]\n"
     ]
    }
   ],
   "source": [
    "df = pd.read_csv('../input/water-potability/water_potability.csv')\n",
    "print(df)"
   ]
  },
  {
   "cell_type": "markdown",
   "id": "7bfa67a4",
   "metadata": {
    "papermill": {
     "duration": 0.018837,
     "end_time": "2022-04-04T16:13:08.937433",
     "exception": false,
     "start_time": "2022-04-04T16:13:08.918596",
     "status": "completed"
    },
    "tags": []
   },
   "source": [
    "## b)Veri setinde tanımlı olmayan değerler bulmaya çalışıyoruz"
   ]
  },
  {
   "cell_type": "code",
   "execution_count": 3,
   "id": "6e6184ed",
   "metadata": {
    "execution": {
     "iopub.execute_input": "2022-04-04T16:13:08.980093Z",
     "iopub.status.busy": "2022-04-04T16:13:08.979028Z",
     "iopub.status.idle": "2022-04-04T16:13:08.991585Z",
     "shell.execute_reply": "2022-04-04T16:13:08.992113Z",
     "shell.execute_reply.started": "2022-04-04T16:11:13.657659Z"
    },
    "papermill": {
     "duration": 0.035786,
     "end_time": "2022-04-04T16:13:08.992325",
     "exception": false,
     "start_time": "2022-04-04T16:13:08.956539",
     "status": "completed"
    },
    "tags": []
   },
   "outputs": [
    {
     "data": {
      "text/plain": [
       "ph                 491\n",
       "Hardness             0\n",
       "Solids               0\n",
       "Chloramines          0\n",
       "Sulfate            781\n",
       "Conductivity         0\n",
       "Organic_carbon       0\n",
       "Trihalomethanes    162\n",
       "Turbidity            0\n",
       "Potability           0\n",
       "dtype: int64"
      ]
     },
     "execution_count": 3,
     "metadata": {},
     "output_type": "execute_result"
    }
   ],
   "source": [
    "df.isnull().sum()"
   ]
  },
  {
   "cell_type": "markdown",
   "id": "6e5d5ed0",
   "metadata": {
    "papermill": {
     "duration": 0.019364,
     "end_time": "2022-04-04T16:13:09.032124",
     "exception": false,
     "start_time": "2022-04-04T16:13:09.012760",
     "status": "completed"
    },
    "tags": []
   },
   "source": [
    "## eksik verileri ortalama değere göre dolduruyoruz."
   ]
  },
  {
   "cell_type": "code",
   "execution_count": 4,
   "id": "ff99c992",
   "metadata": {
    "execution": {
     "iopub.execute_input": "2022-04-04T16:13:09.077168Z",
     "iopub.status.busy": "2022-04-04T16:13:09.076452Z",
     "iopub.status.idle": "2022-04-04T16:13:09.104126Z",
     "shell.execute_reply": "2022-04-04T16:13:09.103181Z",
     "shell.execute_reply.started": "2022-04-04T16:11:13.669123Z"
    },
    "papermill": {
     "duration": 0.052768,
     "end_time": "2022-04-04T16:13:09.104343",
     "exception": false,
     "start_time": "2022-04-04T16:13:09.051575",
     "status": "completed"
    },
    "tags": []
   },
   "outputs": [
    {
     "name": "stdout",
     "output_type": "stream",
     "text": [
      "ph                     7.080795\n",
      "Hardness             196.369496\n",
      "Solids             22014.092526\n",
      "Chloramines            7.122277\n",
      "Sulfate              333.775777\n",
      "Conductivity         426.205111\n",
      "Organic_carbon        14.284970\n",
      "Trihalomethanes       66.396293\n",
      "Turbidity              3.966786\n",
      "Potability             0.390110\n",
      "dtype: float64\n",
      "            ph    Hardness        Solids  Chloramines     Sulfate  \\\n",
      "0          NaN  204.890455  20791.318981     7.300212  368.516441   \n",
      "1     3.716080  129.422921  18630.057858     6.635246         NaN   \n",
      "2     8.099124  224.236259  19909.541732     9.275884         NaN   \n",
      "3     8.316766  214.373394  22018.417441     8.059332  356.886136   \n",
      "4     9.092223  181.101509  17978.986339     6.546600  310.135738   \n",
      "...        ...         ...           ...          ...         ...   \n",
      "3271  4.668102  193.681735  47580.991603     7.166639  359.948574   \n",
      "3272  7.808856  193.553212  17329.802160     8.061362         NaN   \n",
      "3273  9.419510  175.762646  33155.578218     7.350233         NaN   \n",
      "3274  5.126763  230.603758  11983.869376     6.303357         NaN   \n",
      "3275  7.874671  195.102299  17404.177061     7.509306         NaN   \n",
      "\n",
      "      Conductivity  Organic_carbon  Trihalomethanes  Turbidity  Potability  \n",
      "0       564.308654       10.379783        86.990970   2.963135           0  \n",
      "1       592.885359       15.180013        56.329076   4.500656           0  \n",
      "2       418.606213       16.868637        66.420093   3.055934           0  \n",
      "3       363.266516       18.436524       100.341674   4.628771           0  \n",
      "4       398.410813       11.558279        31.997993   4.075075           0  \n",
      "...            ...             ...              ...        ...         ...  \n",
      "3271    526.424171       13.894419        66.687695   4.435821           1  \n",
      "3272    392.449580       19.903225              NaN   2.798243           1  \n",
      "3273    432.044783       11.039070        69.845400   3.298875           1  \n",
      "3274    402.883113       11.168946        77.488213   4.708658           1  \n",
      "3275    327.459760       16.140368        78.698446   2.309149           1  \n",
      "\n",
      "[3276 rows x 10 columns]\n",
      "            ph    Hardness        Solids  Chloramines     Sulfate  \\\n",
      "0     7.080795  204.890455  20791.318981     7.300212  368.516441   \n",
      "1     3.716080  129.422921  18630.057858     6.635246  333.775777   \n",
      "2     8.099124  224.236259  19909.541732     9.275884  333.775777   \n",
      "3     8.316766  214.373394  22018.417441     8.059332  356.886136   \n",
      "4     9.092223  181.101509  17978.986339     6.546600  310.135738   \n",
      "...        ...         ...           ...          ...         ...   \n",
      "3271  4.668102  193.681735  47580.991603     7.166639  359.948574   \n",
      "3272  7.808856  193.553212  17329.802160     8.061362  333.775777   \n",
      "3273  9.419510  175.762646  33155.578218     7.350233  333.775777   \n",
      "3274  5.126763  230.603758  11983.869376     6.303357  333.775777   \n",
      "3275  7.874671  195.102299  17404.177061     7.509306  333.775777   \n",
      "\n",
      "      Conductivity  Organic_carbon  Trihalomethanes  Turbidity  Potability  \n",
      "0       564.308654       10.379783        86.990970   2.963135           0  \n",
      "1       592.885359       15.180013        56.329076   4.500656           0  \n",
      "2       418.606213       16.868637        66.420093   3.055934           0  \n",
      "3       363.266516       18.436524       100.341674   4.628771           0  \n",
      "4       398.410813       11.558279        31.997993   4.075075           0  \n",
      "...            ...             ...              ...        ...         ...  \n",
      "3271    526.424171       13.894419        66.687695   4.435821           1  \n",
      "3272    392.449580       19.903225        66.396293   2.798243           1  \n",
      "3273    432.044783       11.039070        69.845400   3.298875           1  \n",
      "3274    402.883113       11.168946        77.488213   4.708658           1  \n",
      "3275    327.459760       16.140368        78.698446   2.309149           1  \n",
      "\n",
      "[3276 rows x 10 columns]\n"
     ]
    }
   ],
   "source": [
    "print(df.mean())\n",
    "df_mean = df.fillna(df.mean())\n",
    "print(df)\n",
    "print(df_mean)\n"
   ]
  },
  {
   "cell_type": "markdown",
   "id": "4aa3820c",
   "metadata": {
    "papermill": {
     "duration": 0.019613,
     "end_time": "2022-04-04T16:13:09.145205",
     "exception": false,
     "start_time": "2022-04-04T16:13:09.125592",
     "status": "completed"
    },
    "tags": []
   },
   "source": [
    "## Veri normalize ediliyor"
   ]
  },
  {
   "cell_type": "code",
   "execution_count": 5,
   "id": "f37babc3",
   "metadata": {
    "execution": {
     "iopub.execute_input": "2022-04-04T16:13:09.193937Z",
     "iopub.status.busy": "2022-04-04T16:13:09.192733Z",
     "iopub.status.idle": "2022-04-04T16:13:09.214457Z",
     "shell.execute_reply": "2022-04-04T16:13:09.213846Z",
     "shell.execute_reply.started": "2022-04-04T16:11:13.702973Z"
    },
    "papermill": {
     "duration": 0.049261,
     "end_time": "2022-04-04T16:13:09.214611",
     "exception": false,
     "start_time": "2022-04-04T16:13:09.165350",
     "status": "completed"
    },
    "tags": []
   },
   "outputs": [
    {
     "data": {
      "text/html": [
       "<div>\n",
       "<style scoped>\n",
       "    .dataframe tbody tr th:only-of-type {\n",
       "        vertical-align: middle;\n",
       "    }\n",
       "\n",
       "    .dataframe tbody tr th {\n",
       "        vertical-align: top;\n",
       "    }\n",
       "\n",
       "    .dataframe thead th {\n",
       "        text-align: right;\n",
       "    }\n",
       "</style>\n",
       "<table border=\"1\" class=\"dataframe\">\n",
       "  <thead>\n",
       "    <tr style=\"text-align: right;\">\n",
       "      <th></th>\n",
       "      <th>ph</th>\n",
       "      <th>Hardness</th>\n",
       "      <th>Solids</th>\n",
       "      <th>Chloramines</th>\n",
       "      <th>Sulfate</th>\n",
       "      <th>Conductivity</th>\n",
       "      <th>Organic_carbon</th>\n",
       "      <th>Trihalomethanes</th>\n",
       "      <th>Turbidity</th>\n",
       "      <th>Potability</th>\n",
       "    </tr>\n",
       "  </thead>\n",
       "  <tbody>\n",
       "    <tr>\n",
       "      <th>0</th>\n",
       "      <td>0.505771</td>\n",
       "      <td>0.571139</td>\n",
       "      <td>0.336096</td>\n",
       "      <td>0.543891</td>\n",
       "      <td>0.680385</td>\n",
       "      <td>0.669439</td>\n",
       "      <td>0.313402</td>\n",
       "      <td>0.699753</td>\n",
       "      <td>0.286091</td>\n",
       "      <td>0.0</td>\n",
       "    </tr>\n",
       "    <tr>\n",
       "      <th>1</th>\n",
       "      <td>0.265434</td>\n",
       "      <td>0.297400</td>\n",
       "      <td>0.300611</td>\n",
       "      <td>0.491839</td>\n",
       "      <td>0.581699</td>\n",
       "      <td>0.719411</td>\n",
       "      <td>0.497319</td>\n",
       "      <td>0.450999</td>\n",
       "      <td>0.576793</td>\n",
       "      <td>0.0</td>\n",
       "    </tr>\n",
       "    <tr>\n",
       "      <th>2</th>\n",
       "      <td>0.578509</td>\n",
       "      <td>0.641311</td>\n",
       "      <td>0.321619</td>\n",
       "      <td>0.698543</td>\n",
       "      <td>0.581699</td>\n",
       "      <td>0.414652</td>\n",
       "      <td>0.562017</td>\n",
       "      <td>0.532866</td>\n",
       "      <td>0.303637</td>\n",
       "      <td>0.0</td>\n",
       "    </tr>\n",
       "    <tr>\n",
       "      <th>3</th>\n",
       "      <td>0.594055</td>\n",
       "      <td>0.605536</td>\n",
       "      <td>0.356244</td>\n",
       "      <td>0.603314</td>\n",
       "      <td>0.647347</td>\n",
       "      <td>0.317880</td>\n",
       "      <td>0.622089</td>\n",
       "      <td>0.808065</td>\n",
       "      <td>0.601015</td>\n",
       "      <td>0.0</td>\n",
       "    </tr>\n",
       "    <tr>\n",
       "      <th>4</th>\n",
       "      <td>0.649445</td>\n",
       "      <td>0.484851</td>\n",
       "      <td>0.289922</td>\n",
       "      <td>0.484900</td>\n",
       "      <td>0.514545</td>\n",
       "      <td>0.379337</td>\n",
       "      <td>0.358555</td>\n",
       "      <td>0.253606</td>\n",
       "      <td>0.496327</td>\n",
       "      <td>0.0</td>\n",
       "    </tr>\n",
       "  </tbody>\n",
       "</table>\n",
       "</div>"
      ],
      "text/plain": [
       "         ph  Hardness    Solids  Chloramines   Sulfate  Conductivity  \\\n",
       "0  0.505771  0.571139  0.336096     0.543891  0.680385      0.669439   \n",
       "1  0.265434  0.297400  0.300611     0.491839  0.581699      0.719411   \n",
       "2  0.578509  0.641311  0.321619     0.698543  0.581699      0.414652   \n",
       "3  0.594055  0.605536  0.356244     0.603314  0.647347      0.317880   \n",
       "4  0.649445  0.484851  0.289922     0.484900  0.514545      0.379337   \n",
       "\n",
       "   Organic_carbon  Trihalomethanes  Turbidity  Potability  \n",
       "0        0.313402         0.699753   0.286091         0.0  \n",
       "1        0.497319         0.450999   0.576793         0.0  \n",
       "2        0.562017         0.532866   0.303637         0.0  \n",
       "3        0.622089         0.808065   0.601015         0.0  \n",
       "4        0.358555         0.253606   0.496327         0.0  "
      ]
     },
     "execution_count": 5,
     "metadata": {},
     "output_type": "execute_result"
    }
   ],
   "source": [
    "scaler = MinMaxScaler()\n",
    "data = scaler.fit_transform(df_mean)\n",
    "data = pd.DataFrame(data = data,columns = df_mean.columns)\n",
    "data.head()"
   ]
  },
  {
   "cell_type": "markdown",
   "id": "51265d58",
   "metadata": {
    "papermill": {
     "duration": 0.02024,
     "end_time": "2022-04-04T16:13:09.256350",
     "exception": false,
     "start_time": "2022-04-04T16:13:09.236110",
     "status": "completed"
    },
    "tags": []
   },
   "source": [
    "## Test ve train datası için kolonları ayrılır."
   ]
  },
  {
   "cell_type": "code",
   "execution_count": 6,
   "id": "4d46345e",
   "metadata": {
    "execution": {
     "iopub.execute_input": "2022-04-04T16:13:09.304994Z",
     "iopub.status.busy": "2022-04-04T16:13:09.304294Z",
     "iopub.status.idle": "2022-04-04T16:13:09.307301Z",
     "shell.execute_reply": "2022-04-04T16:13:09.306548Z",
     "shell.execute_reply.started": "2022-04-04T16:11:13.729052Z"
    },
    "papermill": {
     "duration": 0.029803,
     "end_time": "2022-04-04T16:13:09.307464",
     "exception": false,
     "start_time": "2022-04-04T16:13:09.277661",
     "status": "completed"
    },
    "tags": []
   },
   "outputs": [],
   "source": [
    "x = data.iloc[:,0:9]\n",
    "y = data.iloc[:,-1]\n"
   ]
  },
  {
   "cell_type": "markdown",
   "id": "bb22c800",
   "metadata": {
    "papermill": {
     "duration": 0.020757,
     "end_time": "2022-04-04T16:13:09.350539",
     "exception": false,
     "start_time": "2022-04-04T16:13:09.329782",
     "status": "completed"
    },
    "tags": []
   },
   "source": [
    "## Temel bileşen analizine normalize edilmiş veri uygulanır."
   ]
  },
  {
   "cell_type": "code",
   "execution_count": 7,
   "id": "83fbff26",
   "metadata": {
    "execution": {
     "iopub.execute_input": "2022-04-04T16:13:09.406982Z",
     "iopub.status.busy": "2022-04-04T16:13:09.399237Z",
     "iopub.status.idle": "2022-04-04T16:13:09.426518Z",
     "shell.execute_reply": "2022-04-04T16:13:09.427443Z",
     "shell.execute_reply.started": "2022-04-04T16:11:13.742128Z"
    },
    "papermill": {
     "duration": 0.056495,
     "end_time": "2022-04-04T16:13:09.427759",
     "exception": false,
     "start_time": "2022-04-04T16:13:09.371264",
     "status": "completed"
    },
    "tags": []
   },
   "outputs": [],
   "source": [
    "pca = PCA(0.90) \n",
    "pca.fit(x)\n",
    "x_pca = pca.transform(x)"
   ]
  },
  {
   "cell_type": "markdown",
   "id": "c535ef48",
   "metadata": {
    "papermill": {
     "duration": 0.036322,
     "end_time": "2022-04-04T16:13:09.504290",
     "exception": false,
     "start_time": "2022-04-04T16:13:09.467968",
     "status": "completed"
    },
    "tags": []
   },
   "source": [
    "## Temel bileşen analizi sonrasında kolon sayımız"
   ]
  },
  {
   "cell_type": "code",
   "execution_count": 8,
   "id": "3266b0f7",
   "metadata": {
    "execution": {
     "iopub.execute_input": "2022-04-04T16:13:09.565216Z",
     "iopub.status.busy": "2022-04-04T16:13:09.564350Z",
     "iopub.status.idle": "2022-04-04T16:13:09.567691Z",
     "shell.execute_reply": "2022-04-04T16:13:09.568221Z",
     "shell.execute_reply.started": "2022-04-04T16:11:13.761789Z"
    },
    "papermill": {
     "duration": 0.029882,
     "end_time": "2022-04-04T16:13:09.568393",
     "exception": false,
     "start_time": "2022-04-04T16:13:09.538511",
     "status": "completed"
    },
    "tags": []
   },
   "outputs": [
    {
     "data": {
      "text/plain": [
       "(3276, 8)"
      ]
     },
     "execution_count": 8,
     "metadata": {},
     "output_type": "execute_result"
    }
   ],
   "source": [
    "x_pca.shape"
   ]
  },
  {
   "cell_type": "markdown",
   "id": "6b1eaa14",
   "metadata": {
    "papermill": {
     "duration": 0.02038,
     "end_time": "2022-04-04T16:13:09.610094",
     "exception": false,
     "start_time": "2022-04-04T16:13:09.589714",
     "status": "completed"
    },
    "tags": []
   },
   "source": [
    "## Test ve train datası ayrılıyor"
   ]
  },
  {
   "cell_type": "code",
   "execution_count": 9,
   "id": "3c08536b",
   "metadata": {
    "execution": {
     "iopub.execute_input": "2022-04-04T16:13:09.659342Z",
     "iopub.status.busy": "2022-04-04T16:13:09.658336Z",
     "iopub.status.idle": "2022-04-04T16:13:09.667466Z",
     "shell.execute_reply": "2022-04-04T16:13:09.668089Z",
     "shell.execute_reply.started": "2022-04-04T16:12:32.353729Z"
    },
    "papermill": {
     "duration": 0.036741,
     "end_time": "2022-04-04T16:13:09.668264",
     "exception": false,
     "start_time": "2022-04-04T16:13:09.631523",
     "status": "completed"
    },
    "tags": []
   },
   "outputs": [
    {
     "name": "stdout",
     "output_type": "stream",
     "text": [
      "2570    0.0\n",
      "260     1.0\n",
      "608     0.0\n",
      "2852    1.0\n",
      "2075    0.0\n",
      "       ... \n",
      "1011    0.0\n",
      "140     0.0\n",
      "953     0.0\n",
      "2366    1.0\n",
      "348     1.0\n",
      "Name: Potability, Length: 2620, dtype: float64\n",
      "1060    0.0\n",
      "623     0.0\n",
      "28      0.0\n",
      "1867    0.0\n",
      "2339    1.0\n",
      "       ... \n",
      "511     0.0\n",
      "1757    0.0\n",
      "1479    0.0\n",
      "1985    1.0\n",
      "2798    1.0\n",
      "Name: Potability, Length: 656, dtype: float64\n"
     ]
    }
   ],
   "source": [
    "x_train,x_test,y_train,y_test = train_test_split(x_pca,y,test_size=0.2,random_state=400)\n",
    "print(y_train)\n",
    "print(y_test)"
   ]
  },
  {
   "cell_type": "markdown",
   "id": "7e511313",
   "metadata": {
    "papermill": {
     "duration": 0.02072,
     "end_time": "2022-04-04T16:13:09.710116",
     "exception": false,
     "start_time": "2022-04-04T16:13:09.689396",
     "status": "completed"
    },
    "tags": []
   },
   "source": [
    "## KNN uygulanıyor."
   ]
  },
  {
   "cell_type": "code",
   "execution_count": 10,
   "id": "f2605861",
   "metadata": {
    "execution": {
     "iopub.execute_input": "2022-04-04T16:13:09.756116Z",
     "iopub.status.busy": "2022-04-04T16:13:09.754961Z",
     "iopub.status.idle": "2022-04-04T16:13:09.768920Z",
     "shell.execute_reply": "2022-04-04T16:13:09.769477Z",
     "shell.execute_reply.started": "2022-04-04T16:11:13.859014Z"
    },
    "papermill": {
     "duration": 0.03854,
     "end_time": "2022-04-04T16:13:09.769649",
     "exception": false,
     "start_time": "2022-04-04T16:13:09.731109",
     "status": "completed"
    },
    "tags": []
   },
   "outputs": [
    {
     "data": {
      "text/plain": [
       "KNeighborsClassifier()"
      ]
     },
     "execution_count": 10,
     "metadata": {},
     "output_type": "execute_result"
    }
   ],
   "source": [
    "knn = KNeighborsClassifier(n_neighbors=5)\n",
    "knn.fit(x_train,y_train.ravel())"
   ]
  },
  {
   "cell_type": "markdown",
   "id": "2fedbfd4",
   "metadata": {
    "papermill": {
     "duration": 0.021145,
     "end_time": "2022-04-04T16:13:09.812409",
     "exception": false,
     "start_time": "2022-04-04T16:13:09.791264",
     "status": "completed"
    },
    "tags": []
   },
   "source": [
    "# Sonuç\n"
   ]
  },
  {
   "cell_type": "code",
   "execution_count": 11,
   "id": "7805f1ca",
   "metadata": {
    "execution": {
     "iopub.execute_input": "2022-04-04T16:13:09.863379Z",
     "iopub.status.busy": "2022-04-04T16:13:09.862629Z",
     "iopub.status.idle": "2022-04-04T16:13:09.916229Z",
     "shell.execute_reply": "2022-04-04T16:13:09.916778Z",
     "shell.execute_reply.started": "2022-04-04T16:11:13.876404Z"
    },
    "papermill": {
     "duration": 0.0821,
     "end_time": "2022-04-04T16:13:09.916973",
     "exception": false,
     "start_time": "2022-04-04T16:13:09.834873",
     "status": "completed"
    },
    "tags": []
   },
   "outputs": [
    {
     "name": "stdout",
     "output_type": "stream",
     "text": [
      "              precision    recall  f1-score   support\n",
      "\n",
      "         0.0       0.65      0.72      0.68       414\n",
      "         1.0       0.41      0.33      0.37       242\n",
      "\n",
      "    accuracy                           0.58       656\n",
      "   macro avg       0.53      0.53      0.52       656\n",
      "weighted avg       0.56      0.58      0.57       656\n",
      "\n"
     ]
    }
   ],
   "source": [
    "result = knn.predict(x_test)\n",
    "print(metrics.classification_report(y_test,result))"
   ]
  }
 ],
 "metadata": {
  "kernelspec": {
   "display_name": "Python 3",
   "language": "python",
   "name": "python3"
  },
  "language_info": {
   "codemirror_mode": {
    "name": "ipython",
    "version": 3
   },
   "file_extension": ".py",
   "mimetype": "text/x-python",
   "name": "python",
   "nbconvert_exporter": "python",
   "pygments_lexer": "ipython3",
   "version": "3.7.12"
  },
  "papermill": {
   "default_parameters": {},
   "duration": 14.099392,
   "end_time": "2022-04-04T16:13:10.652221",
   "environment_variables": {},
   "exception": null,
   "input_path": "__notebook__.ipynb",
   "output_path": "__notebook__.ipynb",
   "parameters": {},
   "start_time": "2022-04-04T16:12:56.552829",
   "version": "2.3.3"
  }
 },
 "nbformat": 4,
 "nbformat_minor": 5
}
