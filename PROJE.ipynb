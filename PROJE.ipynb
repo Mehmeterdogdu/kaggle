{
 "cells": [
  {
   "cell_type": "code",
   "execution_count": 1,
   "id": "9aa5c3ff",
   "metadata": {
    "_cell_guid": "b1076dfc-b9ad-4769-8c92-a6c4dae69d19",
    "_uuid": "8f2839f25d086af736a60e9eeb907d3b93b6e0e5",
    "execution": {
     "iopub.execute_input": "2022-05-29T11:03:28.557594Z",
     "iopub.status.busy": "2022-05-29T11:03:28.557053Z",
     "iopub.status.idle": "2022-05-29T11:03:29.730000Z",
     "shell.execute_reply": "2022-05-29T11:03:29.728728Z"
    },
    "papermill": {
     "duration": 1.189042,
     "end_time": "2022-05-29T11:03:29.733041",
     "exception": false,
     "start_time": "2022-05-29T11:03:28.543999",
     "status": "completed"
    },
    "tags": []
   },
   "outputs": [
    {
     "name": "stdout",
     "output_type": "stream",
     "text": [
      "/kaggle/input/heart-attack-analysis-prediction-dataset/o2Saturation.csv\n",
      "/kaggle/input/heart-attack-analysis-prediction-dataset/heart.csv\n"
     ]
    }
   ],
   "source": [
    "# This Python 3 environment comes with many helpful analytics libraries installed\n",
    "# It is defined by the kaggle/python Docker image: https://github.com/kaggle/docker-python\n",
    "# For example, here's several helpful packages to load\n",
    "\n",
    "import numpy as np # linear algebra\n",
    "import pandas as pd # data processing, CSV file I/O (e.g. pd.read_csv)\n",
    "import matplotlib.pyplot as plt # for data visualization purposes\n",
    "import seaborn as sns # for statistical data visualization\n",
    "%matplotlib inline\n",
    "\n",
    "# Input data files are available in the read-only \"../input/\" directory\n",
    "# For example, running this (by clicking run or pressing Shift+Enter) will list all files under the input directory\n",
    "\n",
    "import os\n",
    "for dirname, _, filenames in os.walk('/kaggle/input'):\n",
    "    for filename in filenames:\n",
    "        print(os.path.join(dirname, filename))\n",
    "\n",
    "# You can write up to 20GB to the current directory (/kaggle/working/) that gets preserved as output when you create a version using \"Save & Run All\" \n",
    "# You can also write temporary files to /kaggle/temp/, but they won't be saved outside of the current session"
   ]
  },
  {
   "cell_type": "code",
   "execution_count": 2,
   "id": "54befbdb",
   "metadata": {
    "execution": {
     "iopub.execute_input": "2022-05-29T11:03:29.758477Z",
     "iopub.status.busy": "2022-05-29T11:03:29.757979Z",
     "iopub.status.idle": "2022-05-29T11:03:29.762739Z",
     "shell.execute_reply": "2022-05-29T11:03:29.761390Z"
    },
    "papermill": {
     "duration": 0.020447,
     "end_time": "2022-05-29T11:03:29.765717",
     "exception": false,
     "start_time": "2022-05-29T11:03:29.745270",
     "status": "completed"
    },
    "tags": []
   },
   "outputs": [],
   "source": [
    "import warnings\n",
    "\n",
    "warnings.filterwarnings('ignore')"
   ]
  },
  {
   "cell_type": "markdown",
   "id": "e026dc98",
   "metadata": {
    "papermill": {
     "duration": 0.017328,
     "end_time": "2022-05-29T11:03:29.801157",
     "exception": false,
     "start_time": "2022-05-29T11:03:29.783829",
     "status": "completed"
    },
    "tags": []
   },
   "source": [
    "# Başlangıç"
   ]
  },
  {
   "cell_type": "markdown",
   "id": "9622bf1c",
   "metadata": {
    "papermill": {
     "duration": 0.017486,
     "end_time": "2022-05-29T11:03:29.836090",
     "exception": false,
     "start_time": "2022-05-29T11:03:29.818604",
     "status": "completed"
    },
    "tags": []
   },
   "source": [
    "data yükleme"
   ]
  },
  {
   "cell_type": "code",
   "execution_count": 3,
   "id": "7750d57e",
   "metadata": {
    "execution": {
     "iopub.execute_input": "2022-05-29T11:03:29.874496Z",
     "iopub.status.busy": "2022-05-29T11:03:29.874040Z",
     "iopub.status.idle": "2022-05-29T11:03:29.922544Z",
     "shell.execute_reply": "2022-05-29T11:03:29.920687Z"
    },
    "papermill": {
     "duration": 0.070908,
     "end_time": "2022-05-29T11:03:29.924863",
     "exception": false,
     "start_time": "2022-05-29T11:03:29.853955",
     "status": "completed"
    },
    "tags": []
   },
   "outputs": [
    {
     "data": {
      "text/html": [
       "<div>\n",
       "<style scoped>\n",
       "    .dataframe tbody tr th:only-of-type {\n",
       "        vertical-align: middle;\n",
       "    }\n",
       "\n",
       "    .dataframe tbody tr th {\n",
       "        vertical-align: top;\n",
       "    }\n",
       "\n",
       "    .dataframe thead th {\n",
       "        text-align: right;\n",
       "    }\n",
       "</style>\n",
       "<table border=\"1\" class=\"dataframe\">\n",
       "  <thead>\n",
       "    <tr style=\"text-align: right;\">\n",
       "      <th></th>\n",
       "      <th>age</th>\n",
       "      <th>sex</th>\n",
       "      <th>cp</th>\n",
       "      <th>trtbps</th>\n",
       "      <th>chol</th>\n",
       "      <th>fbs</th>\n",
       "      <th>restecg</th>\n",
       "      <th>thalachh</th>\n",
       "      <th>exng</th>\n",
       "      <th>oldpeak</th>\n",
       "      <th>slp</th>\n",
       "      <th>caa</th>\n",
       "      <th>thall</th>\n",
       "      <th>output</th>\n",
       "    </tr>\n",
       "  </thead>\n",
       "  <tbody>\n",
       "    <tr>\n",
       "      <th>0</th>\n",
       "      <td>63</td>\n",
       "      <td>1</td>\n",
       "      <td>3</td>\n",
       "      <td>145</td>\n",
       "      <td>233</td>\n",
       "      <td>1</td>\n",
       "      <td>0</td>\n",
       "      <td>150</td>\n",
       "      <td>0</td>\n",
       "      <td>2.3</td>\n",
       "      <td>0</td>\n",
       "      <td>0</td>\n",
       "      <td>1</td>\n",
       "      <td>1</td>\n",
       "    </tr>\n",
       "    <tr>\n",
       "      <th>1</th>\n",
       "      <td>37</td>\n",
       "      <td>1</td>\n",
       "      <td>2</td>\n",
       "      <td>130</td>\n",
       "      <td>250</td>\n",
       "      <td>0</td>\n",
       "      <td>1</td>\n",
       "      <td>187</td>\n",
       "      <td>0</td>\n",
       "      <td>3.5</td>\n",
       "      <td>0</td>\n",
       "      <td>0</td>\n",
       "      <td>2</td>\n",
       "      <td>1</td>\n",
       "    </tr>\n",
       "    <tr>\n",
       "      <th>2</th>\n",
       "      <td>41</td>\n",
       "      <td>0</td>\n",
       "      <td>1</td>\n",
       "      <td>130</td>\n",
       "      <td>204</td>\n",
       "      <td>0</td>\n",
       "      <td>0</td>\n",
       "      <td>172</td>\n",
       "      <td>0</td>\n",
       "      <td>1.4</td>\n",
       "      <td>2</td>\n",
       "      <td>0</td>\n",
       "      <td>2</td>\n",
       "      <td>1</td>\n",
       "    </tr>\n",
       "    <tr>\n",
       "      <th>3</th>\n",
       "      <td>56</td>\n",
       "      <td>1</td>\n",
       "      <td>1</td>\n",
       "      <td>120</td>\n",
       "      <td>236</td>\n",
       "      <td>0</td>\n",
       "      <td>1</td>\n",
       "      <td>178</td>\n",
       "      <td>0</td>\n",
       "      <td>0.8</td>\n",
       "      <td>2</td>\n",
       "      <td>0</td>\n",
       "      <td>2</td>\n",
       "      <td>1</td>\n",
       "    </tr>\n",
       "    <tr>\n",
       "      <th>4</th>\n",
       "      <td>57</td>\n",
       "      <td>0</td>\n",
       "      <td>0</td>\n",
       "      <td>120</td>\n",
       "      <td>354</td>\n",
       "      <td>0</td>\n",
       "      <td>1</td>\n",
       "      <td>163</td>\n",
       "      <td>1</td>\n",
       "      <td>0.6</td>\n",
       "      <td>2</td>\n",
       "      <td>0</td>\n",
       "      <td>2</td>\n",
       "      <td>1</td>\n",
       "    </tr>\n",
       "    <tr>\n",
       "      <th>...</th>\n",
       "      <td>...</td>\n",
       "      <td>...</td>\n",
       "      <td>...</td>\n",
       "      <td>...</td>\n",
       "      <td>...</td>\n",
       "      <td>...</td>\n",
       "      <td>...</td>\n",
       "      <td>...</td>\n",
       "      <td>...</td>\n",
       "      <td>...</td>\n",
       "      <td>...</td>\n",
       "      <td>...</td>\n",
       "      <td>...</td>\n",
       "      <td>...</td>\n",
       "    </tr>\n",
       "    <tr>\n",
       "      <th>298</th>\n",
       "      <td>57</td>\n",
       "      <td>0</td>\n",
       "      <td>0</td>\n",
       "      <td>140</td>\n",
       "      <td>241</td>\n",
       "      <td>0</td>\n",
       "      <td>1</td>\n",
       "      <td>123</td>\n",
       "      <td>1</td>\n",
       "      <td>0.2</td>\n",
       "      <td>1</td>\n",
       "      <td>0</td>\n",
       "      <td>3</td>\n",
       "      <td>0</td>\n",
       "    </tr>\n",
       "    <tr>\n",
       "      <th>299</th>\n",
       "      <td>45</td>\n",
       "      <td>1</td>\n",
       "      <td>3</td>\n",
       "      <td>110</td>\n",
       "      <td>264</td>\n",
       "      <td>0</td>\n",
       "      <td>1</td>\n",
       "      <td>132</td>\n",
       "      <td>0</td>\n",
       "      <td>1.2</td>\n",
       "      <td>1</td>\n",
       "      <td>0</td>\n",
       "      <td>3</td>\n",
       "      <td>0</td>\n",
       "    </tr>\n",
       "    <tr>\n",
       "      <th>300</th>\n",
       "      <td>68</td>\n",
       "      <td>1</td>\n",
       "      <td>0</td>\n",
       "      <td>144</td>\n",
       "      <td>193</td>\n",
       "      <td>1</td>\n",
       "      <td>1</td>\n",
       "      <td>141</td>\n",
       "      <td>0</td>\n",
       "      <td>3.4</td>\n",
       "      <td>1</td>\n",
       "      <td>2</td>\n",
       "      <td>3</td>\n",
       "      <td>0</td>\n",
       "    </tr>\n",
       "    <tr>\n",
       "      <th>301</th>\n",
       "      <td>57</td>\n",
       "      <td>1</td>\n",
       "      <td>0</td>\n",
       "      <td>130</td>\n",
       "      <td>131</td>\n",
       "      <td>0</td>\n",
       "      <td>1</td>\n",
       "      <td>115</td>\n",
       "      <td>1</td>\n",
       "      <td>1.2</td>\n",
       "      <td>1</td>\n",
       "      <td>1</td>\n",
       "      <td>3</td>\n",
       "      <td>0</td>\n",
       "    </tr>\n",
       "    <tr>\n",
       "      <th>302</th>\n",
       "      <td>57</td>\n",
       "      <td>0</td>\n",
       "      <td>1</td>\n",
       "      <td>130</td>\n",
       "      <td>236</td>\n",
       "      <td>0</td>\n",
       "      <td>0</td>\n",
       "      <td>174</td>\n",
       "      <td>0</td>\n",
       "      <td>0.0</td>\n",
       "      <td>1</td>\n",
       "      <td>1</td>\n",
       "      <td>2</td>\n",
       "      <td>0</td>\n",
       "    </tr>\n",
       "  </tbody>\n",
       "</table>\n",
       "<p>303 rows × 14 columns</p>\n",
       "</div>"
      ],
      "text/plain": [
       "     age  sex  cp  trtbps  chol  fbs  restecg  thalachh  exng  oldpeak  slp  \\\n",
       "0     63    1   3     145   233    1        0       150     0      2.3    0   \n",
       "1     37    1   2     130   250    0        1       187     0      3.5    0   \n",
       "2     41    0   1     130   204    0        0       172     0      1.4    2   \n",
       "3     56    1   1     120   236    0        1       178     0      0.8    2   \n",
       "4     57    0   0     120   354    0        1       163     1      0.6    2   \n",
       "..   ...  ...  ..     ...   ...  ...      ...       ...   ...      ...  ...   \n",
       "298   57    0   0     140   241    0        1       123     1      0.2    1   \n",
       "299   45    1   3     110   264    0        1       132     0      1.2    1   \n",
       "300   68    1   0     144   193    1        1       141     0      3.4    1   \n",
       "301   57    1   0     130   131    0        1       115     1      1.2    1   \n",
       "302   57    0   1     130   236    0        0       174     0      0.0    1   \n",
       "\n",
       "     caa  thall  output  \n",
       "0      0      1       1  \n",
       "1      0      2       1  \n",
       "2      0      2       1  \n",
       "3      0      2       1  \n",
       "4      0      2       1  \n",
       "..   ...    ...     ...  \n",
       "298    0      3       0  \n",
       "299    0      3       0  \n",
       "300    2      3       0  \n",
       "301    1      3       0  \n",
       "302    1      2       0  \n",
       "\n",
       "[303 rows x 14 columns]"
      ]
     },
     "execution_count": 3,
     "metadata": {},
     "output_type": "execute_result"
    }
   ],
   "source": [
    "df = pd.read_csv('../input/heart-attack-analysis-prediction-dataset/heart.csv')\n",
    "df"
   ]
  },
  {
   "cell_type": "markdown",
   "id": "6e551beb",
   "metadata": {
    "papermill": {
     "duration": 0.017715,
     "end_time": "2022-05-29T11:03:29.960988",
     "exception": false,
     "start_time": "2022-05-29T11:03:29.943273",
     "status": "completed"
    },
    "tags": []
   },
   "source": [
    "## toplam veri ve özellik sayısını gösteriyor"
   ]
  },
  {
   "cell_type": "code",
   "execution_count": 4,
   "id": "7db9c353",
   "metadata": {
    "execution": {
     "iopub.execute_input": "2022-05-29T11:03:29.998955Z",
     "iopub.status.busy": "2022-05-29T11:03:29.998538Z",
     "iopub.status.idle": "2022-05-29T11:03:30.005670Z",
     "shell.execute_reply": "2022-05-29T11:03:30.004490Z"
    },
    "papermill": {
     "duration": 0.028993,
     "end_time": "2022-05-29T11:03:30.007904",
     "exception": false,
     "start_time": "2022-05-29T11:03:29.978911",
     "status": "completed"
    },
    "tags": []
   },
   "outputs": [
    {
     "data": {
      "text/plain": [
       "(303, 14)"
      ]
     },
     "execution_count": 4,
     "metadata": {},
     "output_type": "execute_result"
    }
   ],
   "source": [
    "df.shape"
   ]
  },
  {
   "cell_type": "markdown",
   "id": "cbbd348f",
   "metadata": {
    "papermill": {
     "duration": 0.018738,
     "end_time": "2022-05-29T11:03:30.045179",
     "exception": false,
     "start_time": "2022-05-29T11:03:30.026441",
     "status": "completed"
    },
    "tags": []
   },
   "source": [
    "## özelliklerin bilgilerini yazdırıyor (boşluk var mı?,hangi tip veri)"
   ]
  },
  {
   "cell_type": "code",
   "execution_count": 5,
   "id": "424b20ee",
   "metadata": {
    "execution": {
     "iopub.execute_input": "2022-05-29T11:03:30.084310Z",
     "iopub.status.busy": "2022-05-29T11:03:30.083906Z",
     "iopub.status.idle": "2022-05-29T11:03:30.104999Z",
     "shell.execute_reply": "2022-05-29T11:03:30.104309Z"
    },
    "papermill": {
     "duration": 0.043343,
     "end_time": "2022-05-29T11:03:30.107151",
     "exception": false,
     "start_time": "2022-05-29T11:03:30.063808",
     "status": "completed"
    },
    "tags": []
   },
   "outputs": [
    {
     "name": "stdout",
     "output_type": "stream",
     "text": [
      "<class 'pandas.core.frame.DataFrame'>\n",
      "RangeIndex: 303 entries, 0 to 302\n",
      "Data columns (total 14 columns):\n",
      " #   Column    Non-Null Count  Dtype  \n",
      "---  ------    --------------  -----  \n",
      " 0   age       303 non-null    int64  \n",
      " 1   sex       303 non-null    int64  \n",
      " 2   cp        303 non-null    int64  \n",
      " 3   trtbps    303 non-null    int64  \n",
      " 4   chol      303 non-null    int64  \n",
      " 5   fbs       303 non-null    int64  \n",
      " 6   restecg   303 non-null    int64  \n",
      " 7   thalachh  303 non-null    int64  \n",
      " 8   exng      303 non-null    int64  \n",
      " 9   oldpeak   303 non-null    float64\n",
      " 10  slp       303 non-null    int64  \n",
      " 11  caa       303 non-null    int64  \n",
      " 12  thall     303 non-null    int64  \n",
      " 13  output    303 non-null    int64  \n",
      "dtypes: float64(1), int64(13)\n",
      "memory usage: 33.3 KB\n"
     ]
    }
   ],
   "source": [
    "df.info()"
   ]
  },
  {
   "cell_type": "markdown",
   "id": "b3d51499",
   "metadata": {
    "papermill": {
     "duration": 0.018524,
     "end_time": "2022-05-29T11:03:30.144467",
     "exception": false,
     "start_time": "2022-05-29T11:03:30.125943",
     "status": "completed"
    },
    "tags": []
   },
   "source": [
    "## veride boşluk var mı kontrol ediliyor##"
   ]
  },
  {
   "cell_type": "code",
   "execution_count": 6,
   "id": "f06a0952",
   "metadata": {
    "execution": {
     "iopub.execute_input": "2022-05-29T11:03:30.183476Z",
     "iopub.status.busy": "2022-05-29T11:03:30.183087Z",
     "iopub.status.idle": "2022-05-29T11:03:30.190962Z",
     "shell.execute_reply": "2022-05-29T11:03:30.190041Z"
    },
    "papermill": {
     "duration": 0.029884,
     "end_time": "2022-05-29T11:03:30.193060",
     "exception": false,
     "start_time": "2022-05-29T11:03:30.163176",
     "status": "completed"
    },
    "tags": []
   },
   "outputs": [
    {
     "data": {
      "text/plain": [
       "age         0\n",
       "sex         0\n",
       "cp          0\n",
       "trtbps      0\n",
       "chol        0\n",
       "fbs         0\n",
       "restecg     0\n",
       "thalachh    0\n",
       "exng        0\n",
       "oldpeak     0\n",
       "slp         0\n",
       "caa         0\n",
       "thall       0\n",
       "output      0\n",
       "dtype: int64"
      ]
     },
     "execution_count": 6,
     "metadata": {},
     "output_type": "execute_result"
    }
   ],
   "source": [
    "df.isnull().sum()"
   ]
  },
  {
   "cell_type": "markdown",
   "id": "6cc66739",
   "metadata": {
    "papermill": {
     "duration": 0.018483,
     "end_time": "2022-05-29T11:03:30.230387",
     "exception": false,
     "start_time": "2022-05-29T11:03:30.211904",
     "status": "completed"
    },
    "tags": []
   },
   "source": [
    "## veri özellikler ve sonuç olarak 2ye ayrılıyor"
   ]
  },
  {
   "cell_type": "code",
   "execution_count": 7,
   "id": "3a6b5083",
   "metadata": {
    "execution": {
     "iopub.execute_input": "2022-05-29T11:03:30.270269Z",
     "iopub.status.busy": "2022-05-29T11:03:30.269654Z",
     "iopub.status.idle": "2022-05-29T11:03:30.275301Z",
     "shell.execute_reply": "2022-05-29T11:03:30.274398Z"
    },
    "papermill": {
     "duration": 0.028226,
     "end_time": "2022-05-29T11:03:30.277226",
     "exception": false,
     "start_time": "2022-05-29T11:03:30.249000",
     "status": "completed"
    },
    "tags": []
   },
   "outputs": [],
   "source": [
    "X = df.iloc[:,0:13]\n",
    "\n",
    "y = df.iloc[:,-1]\n"
   ]
  },
  {
   "cell_type": "code",
   "execution_count": 8,
   "id": "19c071c7",
   "metadata": {
    "execution": {
     "iopub.execute_input": "2022-05-29T11:03:30.316382Z",
     "iopub.status.busy": "2022-05-29T11:03:30.315952Z",
     "iopub.status.idle": "2022-05-29T11:03:30.337032Z",
     "shell.execute_reply": "2022-05-29T11:03:30.336170Z"
    },
    "papermill": {
     "duration": 0.043372,
     "end_time": "2022-05-29T11:03:30.339272",
     "exception": false,
     "start_time": "2022-05-29T11:03:30.295900",
     "status": "completed"
    },
    "tags": []
   },
   "outputs": [
    {
     "data": {
      "text/html": [
       "<div>\n",
       "<style scoped>\n",
       "    .dataframe tbody tr th:only-of-type {\n",
       "        vertical-align: middle;\n",
       "    }\n",
       "\n",
       "    .dataframe tbody tr th {\n",
       "        vertical-align: top;\n",
       "    }\n",
       "\n",
       "    .dataframe thead th {\n",
       "        text-align: right;\n",
       "    }\n",
       "</style>\n",
       "<table border=\"1\" class=\"dataframe\">\n",
       "  <thead>\n",
       "    <tr style=\"text-align: right;\">\n",
       "      <th></th>\n",
       "      <th>age</th>\n",
       "      <th>sex</th>\n",
       "      <th>cp</th>\n",
       "      <th>trtbps</th>\n",
       "      <th>chol</th>\n",
       "      <th>fbs</th>\n",
       "      <th>restecg</th>\n",
       "      <th>thalachh</th>\n",
       "      <th>exng</th>\n",
       "      <th>oldpeak</th>\n",
       "      <th>slp</th>\n",
       "      <th>caa</th>\n",
       "      <th>thall</th>\n",
       "    </tr>\n",
       "  </thead>\n",
       "  <tbody>\n",
       "    <tr>\n",
       "      <th>0</th>\n",
       "      <td>63</td>\n",
       "      <td>1</td>\n",
       "      <td>3</td>\n",
       "      <td>145</td>\n",
       "      <td>233</td>\n",
       "      <td>1</td>\n",
       "      <td>0</td>\n",
       "      <td>150</td>\n",
       "      <td>0</td>\n",
       "      <td>2.3</td>\n",
       "      <td>0</td>\n",
       "      <td>0</td>\n",
       "      <td>1</td>\n",
       "    </tr>\n",
       "    <tr>\n",
       "      <th>1</th>\n",
       "      <td>37</td>\n",
       "      <td>1</td>\n",
       "      <td>2</td>\n",
       "      <td>130</td>\n",
       "      <td>250</td>\n",
       "      <td>0</td>\n",
       "      <td>1</td>\n",
       "      <td>187</td>\n",
       "      <td>0</td>\n",
       "      <td>3.5</td>\n",
       "      <td>0</td>\n",
       "      <td>0</td>\n",
       "      <td>2</td>\n",
       "    </tr>\n",
       "    <tr>\n",
       "      <th>2</th>\n",
       "      <td>41</td>\n",
       "      <td>0</td>\n",
       "      <td>1</td>\n",
       "      <td>130</td>\n",
       "      <td>204</td>\n",
       "      <td>0</td>\n",
       "      <td>0</td>\n",
       "      <td>172</td>\n",
       "      <td>0</td>\n",
       "      <td>1.4</td>\n",
       "      <td>2</td>\n",
       "      <td>0</td>\n",
       "      <td>2</td>\n",
       "    </tr>\n",
       "    <tr>\n",
       "      <th>3</th>\n",
       "      <td>56</td>\n",
       "      <td>1</td>\n",
       "      <td>1</td>\n",
       "      <td>120</td>\n",
       "      <td>236</td>\n",
       "      <td>0</td>\n",
       "      <td>1</td>\n",
       "      <td>178</td>\n",
       "      <td>0</td>\n",
       "      <td>0.8</td>\n",
       "      <td>2</td>\n",
       "      <td>0</td>\n",
       "      <td>2</td>\n",
       "    </tr>\n",
       "    <tr>\n",
       "      <th>4</th>\n",
       "      <td>57</td>\n",
       "      <td>0</td>\n",
       "      <td>0</td>\n",
       "      <td>120</td>\n",
       "      <td>354</td>\n",
       "      <td>0</td>\n",
       "      <td>1</td>\n",
       "      <td>163</td>\n",
       "      <td>1</td>\n",
       "      <td>0.6</td>\n",
       "      <td>2</td>\n",
       "      <td>0</td>\n",
       "      <td>2</td>\n",
       "    </tr>\n",
       "    <tr>\n",
       "      <th>...</th>\n",
       "      <td>...</td>\n",
       "      <td>...</td>\n",
       "      <td>...</td>\n",
       "      <td>...</td>\n",
       "      <td>...</td>\n",
       "      <td>...</td>\n",
       "      <td>...</td>\n",
       "      <td>...</td>\n",
       "      <td>...</td>\n",
       "      <td>...</td>\n",
       "      <td>...</td>\n",
       "      <td>...</td>\n",
       "      <td>...</td>\n",
       "    </tr>\n",
       "    <tr>\n",
       "      <th>298</th>\n",
       "      <td>57</td>\n",
       "      <td>0</td>\n",
       "      <td>0</td>\n",
       "      <td>140</td>\n",
       "      <td>241</td>\n",
       "      <td>0</td>\n",
       "      <td>1</td>\n",
       "      <td>123</td>\n",
       "      <td>1</td>\n",
       "      <td>0.2</td>\n",
       "      <td>1</td>\n",
       "      <td>0</td>\n",
       "      <td>3</td>\n",
       "    </tr>\n",
       "    <tr>\n",
       "      <th>299</th>\n",
       "      <td>45</td>\n",
       "      <td>1</td>\n",
       "      <td>3</td>\n",
       "      <td>110</td>\n",
       "      <td>264</td>\n",
       "      <td>0</td>\n",
       "      <td>1</td>\n",
       "      <td>132</td>\n",
       "      <td>0</td>\n",
       "      <td>1.2</td>\n",
       "      <td>1</td>\n",
       "      <td>0</td>\n",
       "      <td>3</td>\n",
       "    </tr>\n",
       "    <tr>\n",
       "      <th>300</th>\n",
       "      <td>68</td>\n",
       "      <td>1</td>\n",
       "      <td>0</td>\n",
       "      <td>144</td>\n",
       "      <td>193</td>\n",
       "      <td>1</td>\n",
       "      <td>1</td>\n",
       "      <td>141</td>\n",
       "      <td>0</td>\n",
       "      <td>3.4</td>\n",
       "      <td>1</td>\n",
       "      <td>2</td>\n",
       "      <td>3</td>\n",
       "    </tr>\n",
       "    <tr>\n",
       "      <th>301</th>\n",
       "      <td>57</td>\n",
       "      <td>1</td>\n",
       "      <td>0</td>\n",
       "      <td>130</td>\n",
       "      <td>131</td>\n",
       "      <td>0</td>\n",
       "      <td>1</td>\n",
       "      <td>115</td>\n",
       "      <td>1</td>\n",
       "      <td>1.2</td>\n",
       "      <td>1</td>\n",
       "      <td>1</td>\n",
       "      <td>3</td>\n",
       "    </tr>\n",
       "    <tr>\n",
       "      <th>302</th>\n",
       "      <td>57</td>\n",
       "      <td>0</td>\n",
       "      <td>1</td>\n",
       "      <td>130</td>\n",
       "      <td>236</td>\n",
       "      <td>0</td>\n",
       "      <td>0</td>\n",
       "      <td>174</td>\n",
       "      <td>0</td>\n",
       "      <td>0.0</td>\n",
       "      <td>1</td>\n",
       "      <td>1</td>\n",
       "      <td>2</td>\n",
       "    </tr>\n",
       "  </tbody>\n",
       "</table>\n",
       "<p>303 rows × 13 columns</p>\n",
       "</div>"
      ],
      "text/plain": [
       "     age  sex  cp  trtbps  chol  fbs  restecg  thalachh  exng  oldpeak  slp  \\\n",
       "0     63    1   3     145   233    1        0       150     0      2.3    0   \n",
       "1     37    1   2     130   250    0        1       187     0      3.5    0   \n",
       "2     41    0   1     130   204    0        0       172     0      1.4    2   \n",
       "3     56    1   1     120   236    0        1       178     0      0.8    2   \n",
       "4     57    0   0     120   354    0        1       163     1      0.6    2   \n",
       "..   ...  ...  ..     ...   ...  ...      ...       ...   ...      ...  ...   \n",
       "298   57    0   0     140   241    0        1       123     1      0.2    1   \n",
       "299   45    1   3     110   264    0        1       132     0      1.2    1   \n",
       "300   68    1   0     144   193    1        1       141     0      3.4    1   \n",
       "301   57    1   0     130   131    0        1       115     1      1.2    1   \n",
       "302   57    0   1     130   236    0        0       174     0      0.0    1   \n",
       "\n",
       "     caa  thall  \n",
       "0      0      1  \n",
       "1      0      2  \n",
       "2      0      2  \n",
       "3      0      2  \n",
       "4      0      2  \n",
       "..   ...    ...  \n",
       "298    0      3  \n",
       "299    0      3  \n",
       "300    2      3  \n",
       "301    1      3  \n",
       "302    1      2  \n",
       "\n",
       "[303 rows x 13 columns]"
      ]
     },
     "execution_count": 8,
     "metadata": {},
     "output_type": "execute_result"
    }
   ],
   "source": [
    "X"
   ]
  },
  {
   "cell_type": "code",
   "execution_count": 9,
   "id": "1ec41d65",
   "metadata": {
    "execution": {
     "iopub.execute_input": "2022-05-29T11:03:30.380795Z",
     "iopub.status.busy": "2022-05-29T11:03:30.380089Z",
     "iopub.status.idle": "2022-05-29T11:03:30.387705Z",
     "shell.execute_reply": "2022-05-29T11:03:30.386671Z"
    },
    "papermill": {
     "duration": 0.030085,
     "end_time": "2022-05-29T11:03:30.389695",
     "exception": false,
     "start_time": "2022-05-29T11:03:30.359610",
     "status": "completed"
    },
    "tags": []
   },
   "outputs": [
    {
     "data": {
      "text/plain": [
       "0      1\n",
       "1      1\n",
       "2      1\n",
       "3      1\n",
       "4      1\n",
       "      ..\n",
       "298    0\n",
       "299    0\n",
       "300    0\n",
       "301    0\n",
       "302    0\n",
       "Name: output, Length: 303, dtype: int64"
      ]
     },
     "execution_count": 9,
     "metadata": {},
     "output_type": "execute_result"
    }
   ],
   "source": [
    "y"
   ]
  },
  {
   "cell_type": "markdown",
   "id": "e371df6d",
   "metadata": {
    "papermill": {
     "duration": 0.018364,
     "end_time": "2022-05-29T11:03:30.427265",
     "exception": false,
     "start_time": "2022-05-29T11:03:30.408901",
     "status": "completed"
    },
    "tags": []
   },
   "source": [
    "# kolerizayon "
   ]
  },
  {
   "cell_type": "code",
   "execution_count": 10,
   "id": "554c1210",
   "metadata": {
    "execution": {
     "iopub.execute_input": "2022-05-29T11:03:30.467067Z",
     "iopub.status.busy": "2022-05-29T11:03:30.466236Z",
     "iopub.status.idle": "2022-05-29T11:03:30.477452Z",
     "shell.execute_reply": "2022-05-29T11:03:30.476727Z"
    },
    "papermill": {
     "duration": 0.03345,
     "end_time": "2022-05-29T11:03:30.479485",
     "exception": false,
     "start_time": "2022-05-29T11:03:30.446035",
     "status": "completed"
    },
    "tags": []
   },
   "outputs": [
    {
     "data": {
      "text/plain": [
       "age        -0.225439\n",
       "sex        -0.280937\n",
       "cp          0.433798\n",
       "trtbps     -0.144931\n",
       "chol       -0.085239\n",
       "fbs        -0.028046\n",
       "restecg     0.137230\n",
       "thalachh    0.421741\n",
       "exng       -0.436757\n",
       "oldpeak    -0.430696\n",
       "slp         0.345877\n",
       "caa        -0.391724\n",
       "thall      -0.344029\n",
       "output      1.000000\n",
       "Name: output, dtype: float64"
      ]
     },
     "execution_count": 10,
     "metadata": {},
     "output_type": "execute_result"
    }
   ],
   "source": [
    "corr = df.corr()\n",
    "corr['output']"
   ]
  },
  {
   "cell_type": "markdown",
   "id": "8d8d4f53",
   "metadata": {
    "papermill": {
     "duration": 0.019449,
     "end_time": "2022-05-29T11:03:30.519063",
     "exception": false,
     "start_time": "2022-05-29T11:03:30.499614",
     "status": "completed"
    },
    "tags": []
   },
   "source": [
    "# Normalize ediliyor"
   ]
  },
  {
   "cell_type": "code",
   "execution_count": 11,
   "id": "6df58bbf",
   "metadata": {
    "execution": {
     "iopub.execute_input": "2022-05-29T11:03:30.560806Z",
     "iopub.status.busy": "2022-05-29T11:03:30.560323Z",
     "iopub.status.idle": "2022-05-29T11:03:30.734855Z",
     "shell.execute_reply": "2022-05-29T11:03:30.733587Z"
    },
    "papermill": {
     "duration": 0.198559,
     "end_time": "2022-05-29T11:03:30.737433",
     "exception": false,
     "start_time": "2022-05-29T11:03:30.538874",
     "status": "completed"
    },
    "tags": []
   },
   "outputs": [
    {
     "data": {
      "text/html": [
       "<div>\n",
       "<style scoped>\n",
       "    .dataframe tbody tr th:only-of-type {\n",
       "        vertical-align: middle;\n",
       "    }\n",
       "\n",
       "    .dataframe tbody tr th {\n",
       "        vertical-align: top;\n",
       "    }\n",
       "\n",
       "    .dataframe thead th {\n",
       "        text-align: right;\n",
       "    }\n",
       "</style>\n",
       "<table border=\"1\" class=\"dataframe\">\n",
       "  <thead>\n",
       "    <tr style=\"text-align: right;\">\n",
       "      <th></th>\n",
       "      <th>age</th>\n",
       "      <th>sex</th>\n",
       "      <th>cp</th>\n",
       "      <th>trtbps</th>\n",
       "      <th>chol</th>\n",
       "      <th>fbs</th>\n",
       "      <th>restecg</th>\n",
       "      <th>thalachh</th>\n",
       "      <th>exng</th>\n",
       "      <th>oldpeak</th>\n",
       "      <th>slp</th>\n",
       "      <th>caa</th>\n",
       "      <th>thall</th>\n",
       "    </tr>\n",
       "  </thead>\n",
       "  <tbody>\n",
       "    <tr>\n",
       "      <th>0</th>\n",
       "      <td>0.708333</td>\n",
       "      <td>1.0</td>\n",
       "      <td>1.000000</td>\n",
       "      <td>0.481132</td>\n",
       "      <td>0.244292</td>\n",
       "      <td>1.0</td>\n",
       "      <td>0.0</td>\n",
       "      <td>0.603053</td>\n",
       "      <td>0.0</td>\n",
       "      <td>0.370968</td>\n",
       "      <td>0.0</td>\n",
       "      <td>0.0</td>\n",
       "      <td>0.333333</td>\n",
       "    </tr>\n",
       "    <tr>\n",
       "      <th>1</th>\n",
       "      <td>0.166667</td>\n",
       "      <td>1.0</td>\n",
       "      <td>0.666667</td>\n",
       "      <td>0.339623</td>\n",
       "      <td>0.283105</td>\n",
       "      <td>0.0</td>\n",
       "      <td>0.5</td>\n",
       "      <td>0.885496</td>\n",
       "      <td>0.0</td>\n",
       "      <td>0.564516</td>\n",
       "      <td>0.0</td>\n",
       "      <td>0.0</td>\n",
       "      <td>0.666667</td>\n",
       "    </tr>\n",
       "    <tr>\n",
       "      <th>2</th>\n",
       "      <td>0.250000</td>\n",
       "      <td>0.0</td>\n",
       "      <td>0.333333</td>\n",
       "      <td>0.339623</td>\n",
       "      <td>0.178082</td>\n",
       "      <td>0.0</td>\n",
       "      <td>0.0</td>\n",
       "      <td>0.770992</td>\n",
       "      <td>0.0</td>\n",
       "      <td>0.225806</td>\n",
       "      <td>1.0</td>\n",
       "      <td>0.0</td>\n",
       "      <td>0.666667</td>\n",
       "    </tr>\n",
       "    <tr>\n",
       "      <th>3</th>\n",
       "      <td>0.562500</td>\n",
       "      <td>1.0</td>\n",
       "      <td>0.333333</td>\n",
       "      <td>0.245283</td>\n",
       "      <td>0.251142</td>\n",
       "      <td>0.0</td>\n",
       "      <td>0.5</td>\n",
       "      <td>0.816794</td>\n",
       "      <td>0.0</td>\n",
       "      <td>0.129032</td>\n",
       "      <td>1.0</td>\n",
       "      <td>0.0</td>\n",
       "      <td>0.666667</td>\n",
       "    </tr>\n",
       "    <tr>\n",
       "      <th>4</th>\n",
       "      <td>0.583333</td>\n",
       "      <td>0.0</td>\n",
       "      <td>0.000000</td>\n",
       "      <td>0.245283</td>\n",
       "      <td>0.520548</td>\n",
       "      <td>0.0</td>\n",
       "      <td>0.5</td>\n",
       "      <td>0.702290</td>\n",
       "      <td>1.0</td>\n",
       "      <td>0.096774</td>\n",
       "      <td>1.0</td>\n",
       "      <td>0.0</td>\n",
       "      <td>0.666667</td>\n",
       "    </tr>\n",
       "  </tbody>\n",
       "</table>\n",
       "</div>"
      ],
      "text/plain": [
       "        age  sex        cp    trtbps      chol  fbs  restecg  thalachh  exng  \\\n",
       "0  0.708333  1.0  1.000000  0.481132  0.244292  1.0      0.0  0.603053   0.0   \n",
       "1  0.166667  1.0  0.666667  0.339623  0.283105  0.0      0.5  0.885496   0.0   \n",
       "2  0.250000  0.0  0.333333  0.339623  0.178082  0.0      0.0  0.770992   0.0   \n",
       "3  0.562500  1.0  0.333333  0.245283  0.251142  0.0      0.5  0.816794   0.0   \n",
       "4  0.583333  0.0  0.000000  0.245283  0.520548  0.0      0.5  0.702290   1.0   \n",
       "\n",
       "    oldpeak  slp  caa     thall  \n",
       "0  0.370968  0.0  0.0  0.333333  \n",
       "1  0.564516  0.0  0.0  0.666667  \n",
       "2  0.225806  1.0  0.0  0.666667  \n",
       "3  0.129032  1.0  0.0  0.666667  \n",
       "4  0.096774  1.0  0.0  0.666667  "
      ]
     },
     "execution_count": 11,
     "metadata": {},
     "output_type": "execute_result"
    }
   ],
   "source": [
    "from sklearn.preprocessing import MinMaxScaler\n",
    "scaler = MinMaxScaler()\n",
    "data = scaler.fit_transform(X)\n",
    "X = pd.DataFrame(data = data,columns = X.columns)\n",
    "X.head()"
   ]
  },
  {
   "cell_type": "markdown",
   "id": "f6e78374",
   "metadata": {
    "papermill": {
     "duration": 0.02083,
     "end_time": "2022-05-29T11:03:30.778149",
     "exception": false,
     "start_time": "2022-05-29T11:03:30.757319",
     "status": "completed"
    },
    "tags": []
   },
   "source": [
    "# PCA uygulanıyor"
   ]
  },
  {
   "cell_type": "code",
   "execution_count": 12,
   "id": "909db188",
   "metadata": {
    "execution": {
     "iopub.execute_input": "2022-05-29T11:03:30.821029Z",
     "iopub.status.busy": "2022-05-29T11:03:30.820068Z",
     "iopub.status.idle": "2022-05-29T11:03:31.002912Z",
     "shell.execute_reply": "2022-05-29T11:03:31.001630Z"
    },
    "papermill": {
     "duration": 0.206335,
     "end_time": "2022-05-29T11:03:31.005116",
     "exception": false,
     "start_time": "2022-05-29T11:03:30.798781",
     "status": "completed"
    },
    "tags": []
   },
   "outputs": [
    {
     "data": {
      "text/plain": [
       "PCA(n_components=0.9)"
      ]
     },
     "execution_count": 12,
     "metadata": {},
     "output_type": "execute_result"
    }
   ],
   "source": [
    "from sklearn.decomposition import PCA\n",
    "pca = PCA(0.90) \n",
    "pca.fit(X)"
   ]
  },
  {
   "cell_type": "code",
   "execution_count": 13,
   "id": "ae682ccf",
   "metadata": {
    "execution": {
     "iopub.execute_input": "2022-05-29T11:03:31.047920Z",
     "iopub.status.busy": "2022-05-29T11:03:31.047577Z",
     "iopub.status.idle": "2022-05-29T11:03:31.056470Z",
     "shell.execute_reply": "2022-05-29T11:03:31.055786Z"
    },
    "papermill": {
     "duration": 0.032072,
     "end_time": "2022-05-29T11:03:31.058289",
     "exception": false,
     "start_time": "2022-05-29T11:03:31.026217",
     "status": "completed"
    },
    "tags": []
   },
   "outputs": [
    {
     "data": {
      "text/plain": [
       "(303, 8)"
      ]
     },
     "execution_count": 13,
     "metadata": {},
     "output_type": "execute_result"
    }
   ],
   "source": [
    "X = pca.transform(X)\n",
    "X.shape"
   ]
  },
  {
   "cell_type": "markdown",
   "id": "3877a846",
   "metadata": {
    "papermill": {
     "duration": 0.019509,
     "end_time": "2022-05-29T11:03:31.097976",
     "exception": false,
     "start_time": "2022-05-29T11:03:31.078467",
     "status": "completed"
    },
    "tags": []
   },
   "source": [
    "# test ve train dataları ayrılıyor"
   ]
  },
  {
   "cell_type": "code",
   "execution_count": 14,
   "id": "292a9934",
   "metadata": {
    "execution": {
     "iopub.execute_input": "2022-05-29T11:03:31.141528Z",
     "iopub.status.busy": "2022-05-29T11:03:31.140867Z",
     "iopub.status.idle": "2022-05-29T11:03:31.147127Z",
     "shell.execute_reply": "2022-05-29T11:03:31.146117Z"
    },
    "papermill": {
     "duration": 0.030226,
     "end_time": "2022-05-29T11:03:31.149187",
     "exception": false,
     "start_time": "2022-05-29T11:03:31.118961",
     "status": "completed"
    },
    "tags": []
   },
   "outputs": [],
   "source": [
    "from sklearn.model_selection import train_test_split\n",
    "\n",
    "X_train, X_test, y_train, y_test = train_test_split(X, y, test_size = 0.2, random_state = 0)"
   ]
  },
  {
   "cell_type": "code",
   "execution_count": 15,
   "id": "3b204767",
   "metadata": {
    "execution": {
     "iopub.execute_input": "2022-05-29T11:03:31.190732Z",
     "iopub.status.busy": "2022-05-29T11:03:31.190265Z",
     "iopub.status.idle": "2022-05-29T11:03:31.196770Z",
     "shell.execute_reply": "2022-05-29T11:03:31.195873Z"
    },
    "papermill": {
     "duration": 0.029549,
     "end_time": "2022-05-29T11:03:31.198863",
     "exception": false,
     "start_time": "2022-05-29T11:03:31.169314",
     "status": "completed"
    },
    "tags": []
   },
   "outputs": [
    {
     "data": {
      "text/plain": [
       "((242, 8), (61, 8))"
      ]
     },
     "execution_count": 15,
     "metadata": {},
     "output_type": "execute_result"
    }
   ],
   "source": [
    "X_train.shape, X_test.shape"
   ]
  },
  {
   "cell_type": "markdown",
   "id": "9abac469",
   "metadata": {
    "papermill": {
     "duration": 0.019672,
     "end_time": "2022-05-29T11:03:31.238386",
     "exception": false,
     "start_time": "2022-05-29T11:03:31.218714",
     "status": "completed"
    },
    "tags": []
   },
   "source": [
    "# Naive Bayes Classifier"
   ]
  },
  {
   "cell_type": "code",
   "execution_count": 16,
   "id": "45c28762",
   "metadata": {
    "execution": {
     "iopub.execute_input": "2022-05-29T11:03:31.280233Z",
     "iopub.status.busy": "2022-05-29T11:03:31.279322Z",
     "iopub.status.idle": "2022-05-29T11:03:31.291331Z",
     "shell.execute_reply": "2022-05-29T11:03:31.290250Z"
    },
    "papermill": {
     "duration": 0.035249,
     "end_time": "2022-05-29T11:03:31.293599",
     "exception": false,
     "start_time": "2022-05-29T11:03:31.258350",
     "status": "completed"
    },
    "tags": []
   },
   "outputs": [
    {
     "data": {
      "text/plain": [
       "GaussianNB()"
      ]
     },
     "execution_count": 16,
     "metadata": {},
     "output_type": "execute_result"
    }
   ],
   "source": [
    "from sklearn.naive_bayes import GaussianNB\n",
    "\n",
    "\n",
    "# instantiate the model\n",
    "gnb = GaussianNB()\n",
    "\n",
    "\n",
    "# fit the model\n",
    "gnb.fit(X_train, y_train)"
   ]
  },
  {
   "cell_type": "code",
   "execution_count": 17,
   "id": "8e40b2e2",
   "metadata": {
    "execution": {
     "iopub.execute_input": "2022-05-29T11:03:31.336639Z",
     "iopub.status.busy": "2022-05-29T11:03:31.336187Z",
     "iopub.status.idle": "2022-05-29T11:03:31.343719Z",
     "shell.execute_reply": "2022-05-29T11:03:31.342974Z"
    },
    "papermill": {
     "duration": 0.031094,
     "end_time": "2022-05-29T11:03:31.345663",
     "exception": false,
     "start_time": "2022-05-29T11:03:31.314569",
     "status": "completed"
    },
    "tags": []
   },
   "outputs": [
    {
     "data": {
      "text/plain": [
       "array([0, 1, 1, 0, 0, 0, 0, 0, 0, 0, 1, 1, 0, 1, 1, 0, 0, 1, 0, 0, 1, 0,\n",
       "       0, 0, 1, 1, 0, 1, 1, 1, 1, 0, 1, 0, 1, 1, 0, 1, 0, 0, 0, 1, 0, 0,\n",
       "       0, 1, 1, 1, 0, 1, 1, 1, 1, 0, 1, 0, 1, 1, 1, 1, 1])"
      ]
     },
     "execution_count": 17,
     "metadata": {},
     "output_type": "execute_result"
    }
   ],
   "source": [
    "y_pred = gnb.predict(X_test)\n",
    "\n",
    "y_pred"
   ]
  },
  {
   "cell_type": "markdown",
   "id": "63e6b1cb",
   "metadata": {
    "papermill": {
     "duration": 0.020501,
     "end_time": "2022-05-29T11:03:31.387339",
     "exception": false,
     "start_time": "2022-05-29T11:03:31.366838",
     "status": "completed"
    },
    "tags": []
   },
   "source": [
    "## Sonuç"
   ]
  },
  {
   "cell_type": "code",
   "execution_count": 18,
   "id": "01288c52",
   "metadata": {
    "execution": {
     "iopub.execute_input": "2022-05-29T11:03:31.430562Z",
     "iopub.status.busy": "2022-05-29T11:03:31.429923Z",
     "iopub.status.idle": "2022-05-29T11:03:31.439991Z",
     "shell.execute_reply": "2022-05-29T11:03:31.438986Z"
    },
    "papermill": {
     "duration": 0.033851,
     "end_time": "2022-05-29T11:03:31.441964",
     "exception": false,
     "start_time": "2022-05-29T11:03:31.408113",
     "status": "completed"
    },
    "tags": []
   },
   "outputs": [
    {
     "name": "stdout",
     "output_type": "stream",
     "text": [
      "              precision    recall  f1-score   support\n",
      "\n",
      "           0       0.69      0.74      0.71        27\n",
      "           1       0.78      0.74      0.76        34\n",
      "\n",
      "    accuracy                           0.74        61\n",
      "   macro avg       0.74      0.74      0.74        61\n",
      "weighted avg       0.74      0.74      0.74        61\n",
      "\n"
     ]
    }
   ],
   "source": [
    "from sklearn.metrics import accuracy_score\n",
    "from sklearn import metrics\n",
    "print(metrics.classification_report(y_test,y_pred))\n",
    "#print('Model accuracy score: {0:0.4f}'. format(accuracy_score(y_test, y_pred)))"
   ]
  },
  {
   "cell_type": "markdown",
   "id": "bb656fc1",
   "metadata": {
    "papermill": {
     "duration": 0.021007,
     "end_time": "2022-05-29T11:03:31.483545",
     "exception": false,
     "start_time": "2022-05-29T11:03:31.462538",
     "status": "completed"
    },
    "tags": []
   },
   "source": [
    "True Positives (TP) – True Positives, bir gözlemin belirli bir sınıfa ait olduğunu ve gözlemin aslında o sınıfa ait olduğunu tahmin ettiğimizde ortaya çıkar.\n",
    "\n",
    "Gerçek Negatifler (TN) – Gerçek Negatifler, bir gözlemin belirli bir sınıfa ait olmadığını ve gözlemin aslında o sınıfa ait olmadığını tahmin ettiğimizde ortaya çıkar.\n",
    "\n",
    "Yanlış Pozitifler (FP) – Yanlış Pozitifler, bir gözlemin belirli bir sınıfa ait olduğunu tahmin ettiğimizde ortaya çıkar, ancak gözlem aslında o sınıfa ait değildir. Bu tip hataya Tip I hata denir.\n",
    "\n",
    "Yanlış Negatifler (FN) – Yanlış Negatifler, bir gözlemin belirli bir sınıfa ait olmadığını, ancak gözlemin aslında o sınıfa ait olduğunu tahmin ettiğimizde ortaya çıkar. Bu çok ciddi bir hatadır ve Tip II hata olarak adlandırılır."
   ]
  },
  {
   "cell_type": "code",
   "execution_count": 19,
   "id": "d21916e6",
   "metadata": {
    "execution": {
     "iopub.execute_input": "2022-05-29T11:03:31.526492Z",
     "iopub.status.busy": "2022-05-29T11:03:31.525925Z",
     "iopub.status.idle": "2022-05-29T11:03:31.537530Z",
     "shell.execute_reply": "2022-05-29T11:03:31.536540Z"
    },
    "papermill": {
     "duration": 0.03525,
     "end_time": "2022-05-29T11:03:31.539617",
     "exception": false,
     "start_time": "2022-05-29T11:03:31.504367",
     "status": "completed"
    },
    "tags": []
   },
   "outputs": [
    {
     "name": "stdout",
     "output_type": "stream",
     "text": [
      "Confusion matrix\n",
      "\n",
      " [[20  7]\n",
      " [ 9 25]]\n",
      "\n",
      "True Positives(TP) =  20\n",
      "\n",
      "True Negatives(TN) =  25\n",
      "\n",
      "False Positives(FP) =  7\n",
      "\n",
      "False Negatives(FN) =  9\n"
     ]
    }
   ],
   "source": [
    "from sklearn.metrics import confusion_matrix\n",
    "\n",
    "cmnaiv = confusion_matrix(y_test, y_pred)\n",
    "\n",
    "print('Confusion matrix\\n\\n', cmnaiv)\n",
    "\n",
    "print('\\nTrue Positives(TP) = ', cmnaiv[0,0])\n",
    "\n",
    "print('\\nTrue Negatives(TN) = ', cmnaiv[1,1])\n",
    "\n",
    "print('\\nFalse Positives(FP) = ', cmnaiv[0,1])\n",
    "\n",
    "print('\\nFalse Negatives(FN) = ', cmnaiv[1,0])"
   ]
  },
  {
   "cell_type": "code",
   "execution_count": 20,
   "id": "6db9d7af",
   "metadata": {
    "execution": {
     "iopub.execute_input": "2022-05-29T11:03:31.583537Z",
     "iopub.status.busy": "2022-05-29T11:03:31.582531Z",
     "iopub.status.idle": "2022-05-29T11:03:31.834720Z",
     "shell.execute_reply": "2022-05-29T11:03:31.833481Z"
    },
    "papermill": {
     "duration": 0.276626,
     "end_time": "2022-05-29T11:03:31.836917",
     "exception": false,
     "start_time": "2022-05-29T11:03:31.560291",
     "status": "completed"
    },
    "tags": []
   },
   "outputs": [
    {
     "data": {
      "text/plain": [
       "<AxesSubplot:>"
      ]
     },
     "execution_count": 20,
     "metadata": {},
     "output_type": "execute_result"
    },
    {
     "data": {
      "image/png": "[encoded data removed]",
      "text/plain": [
       "<Figure size 432x288 with 2 Axes>"
      ]
     },
     "metadata": {
      "needs_background": "light"
     },
     "output_type": "display_data"
    }
   ],
   "source": [
    "cmnaiv_matrix = pd.DataFrame(data=cmnaiv, columns=['Actual Positive:1', 'Actual Negative:0'], \n",
    "                                 index=['Predict Positive:1', 'Predict Negative:0'])\n",
    "\n",
    "sns.heatmap(cmnaiv_matrix, annot=True, fmt='d', cmap='YlGnBu')"
   ]
  },
  {
   "cell_type": "code",
   "execution_count": 21,
   "id": "0be39e5d",
   "metadata": {
    "execution": {
     "iopub.execute_input": "2022-05-29T11:03:31.881618Z",
     "iopub.status.busy": "2022-05-29T11:03:31.880592Z",
     "iopub.status.idle": "2022-05-29T11:03:31.886168Z",
     "shell.execute_reply": "2022-05-29T11:03:31.885543Z"
    },
    "papermill": {
     "duration": 0.030353,
     "end_time": "2022-05-29T11:03:31.888600",
     "exception": false,
     "start_time": "2022-05-29T11:03:31.858247",
     "status": "completed"
    },
    "tags": []
   },
   "outputs": [],
   "source": [
    "TP = cmnaiv[0,0]\n",
    "TN = cmnaiv[1,1]\n",
    "FP = cmnaiv[0,1]\n",
    "FN = cmnaiv[1,0]"
   ]
  },
  {
   "cell_type": "markdown",
   "id": "ddce3cba",
   "metadata": {
    "papermill": {
     "duration": 0.020917,
     "end_time": "2022-05-29T11:03:31.931059",
     "exception": false,
     "start_time": "2022-05-29T11:03:31.910142",
     "status": "completed"
    },
    "tags": []
   },
   "source": [
    "## Doğruluk oranı"
   ]
  },
  {
   "cell_type": "code",
   "execution_count": 22,
   "id": "e1daff7e",
   "metadata": {
    "execution": {
     "iopub.execute_input": "2022-05-29T11:03:31.975770Z",
     "iopub.status.busy": "2022-05-29T11:03:31.974852Z",
     "iopub.status.idle": "2022-05-29T11:03:31.980904Z",
     "shell.execute_reply": "2022-05-29T11:03:31.979849Z"
    },
    "papermill": {
     "duration": 0.030528,
     "end_time": "2022-05-29T11:03:31.982887",
     "exception": false,
     "start_time": "2022-05-29T11:03:31.952359",
     "status": "completed"
    },
    "tags": []
   },
   "outputs": [
    {
     "name": "stdout",
     "output_type": "stream",
     "text": [
      "Classification accuracy : 0.7377\n"
     ]
    }
   ],
   "source": [
    "classification_accuracy = (TP + TN) / float(TP + TN + FP + FN)\n",
    "\n",
    "print('Classification accuracy : {0:0.4f}'.format(classification_accuracy))"
   ]
  },
  {
   "cell_type": "markdown",
   "id": "46879b7a",
   "metadata": {
    "papermill": {
     "duration": 0.021872,
     "end_time": "2022-05-29T11:03:32.027075",
     "exception": false,
     "start_time": "2022-05-29T11:03:32.005203",
     "status": "completed"
    },
    "tags": []
   },
   "source": [
    "## Hata oranı"
   ]
  },
  {
   "cell_type": "code",
   "execution_count": 23,
   "id": "902c09fc",
   "metadata": {
    "execution": {
     "iopub.execute_input": "2022-05-29T11:03:32.072972Z",
     "iopub.status.busy": "2022-05-29T11:03:32.072046Z",
     "iopub.status.idle": "2022-05-29T11:03:32.078260Z",
     "shell.execute_reply": "2022-05-29T11:03:32.077264Z"
    },
    "papermill": {
     "duration": 0.031319,
     "end_time": "2022-05-29T11:03:32.080392",
     "exception": false,
     "start_time": "2022-05-29T11:03:32.049073",
     "status": "completed"
    },
    "tags": []
   },
   "outputs": [
    {
     "name": "stdout",
     "output_type": "stream",
     "text": [
      "Classification error : 0.2623\n"
     ]
    }
   ],
   "source": [
    "classification_error = (FP + FN) / float(TP + TN + FP + FN)\n",
    "\n",
    "print('Classification error : {0:0.4f}'.format(classification_error))"
   ]
  },
  {
   "cell_type": "markdown",
   "id": "94aa60fa",
   "metadata": {
    "papermill": {
     "duration": 0.019935,
     "end_time": "2022-05-29T11:03:32.121911",
     "exception": false,
     "start_time": "2022-05-29T11:03:32.101976",
     "status": "completed"
    },
    "tags": []
   },
   "source": [
    "## Kesinlik"
   ]
  },
  {
   "cell_type": "code",
   "execution_count": 24,
   "id": "aaf8a447",
   "metadata": {
    "execution": {
     "iopub.execute_input": "2022-05-29T11:03:32.149975Z",
     "iopub.status.busy": "2022-05-29T11:03:32.149147Z",
     "iopub.status.idle": "2022-05-29T11:03:32.155134Z",
     "shell.execute_reply": "2022-05-29T11:03:32.153583Z"
    },
    "papermill": {
     "duration": 0.021988,
     "end_time": "2022-05-29T11:03:32.157046",
     "exception": false,
     "start_time": "2022-05-29T11:03:32.135058",
     "status": "completed"
    },
    "tags": []
   },
   "outputs": [
    {
     "name": "stdout",
     "output_type": "stream",
     "text": [
      "Precision : 0.7407\n"
     ]
    }
   ],
   "source": [
    "precision = TP / float(TP + FP)\n",
    "\n",
    "\n",
    "print('Precision : {0:0.4f}'.format(precision))"
   ]
  },
  {
   "cell_type": "markdown",
   "id": "96b42c47",
   "metadata": {
    "papermill": {
     "duration": 0.012768,
     "end_time": "2022-05-29T11:03:32.183027",
     "exception": false,
     "start_time": "2022-05-29T11:03:32.170259",
     "status": "completed"
    },
    "tags": []
   },
   "source": [
    "## Duyarlılık"
   ]
  },
  {
   "cell_type": "code",
   "execution_count": 25,
   "id": "b86c427c",
   "metadata": {
    "execution": {
     "iopub.execute_input": "2022-05-29T11:03:32.210532Z",
     "iopub.status.busy": "2022-05-29T11:03:32.209578Z",
     "iopub.status.idle": "2022-05-29T11:03:32.215203Z",
     "shell.execute_reply": "2022-05-29T11:03:32.214194Z"
    },
    "papermill": {
     "duration": 0.0215,
     "end_time": "2022-05-29T11:03:32.217143",
     "exception": false,
     "start_time": "2022-05-29T11:03:32.195643",
     "status": "completed"
    },
    "tags": []
   },
   "outputs": [
    {
     "name": "stdout",
     "output_type": "stream",
     "text": [
      "Recall or Sensitivity : 0.6897\n"
     ]
    }
   ],
   "source": [
    "#hassasiyet\n",
    "recall = TP / float(TP + FN)\n",
    "\n",
    "print('Recall or Sensitivity : {0:0.4f}'.format(recall))"
   ]
  },
  {
   "cell_type": "markdown",
   "id": "633b956b",
   "metadata": {
    "papermill": {
     "duration": 0.01233,
     "end_time": "2022-05-29T11:03:32.242111",
     "exception": false,
     "start_time": "2022-05-29T11:03:32.229781",
     "status": "completed"
    },
    "tags": []
   },
   "source": [
    "## özgünlük"
   ]
  },
  {
   "cell_type": "code",
   "execution_count": 26,
   "id": "a86a5b61",
   "metadata": {
    "execution": {
     "iopub.execute_input": "2022-05-29T11:03:32.269545Z",
     "iopub.status.busy": "2022-05-29T11:03:32.268617Z",
     "iopub.status.idle": "2022-05-29T11:03:32.273892Z",
     "shell.execute_reply": "2022-05-29T11:03:32.273275Z"
    },
    "papermill": {
     "duration": 0.021437,
     "end_time": "2022-05-29T11:03:32.276151",
     "exception": false,
     "start_time": "2022-05-29T11:03:32.254714",
     "status": "completed"
    },
    "tags": []
   },
   "outputs": [
    {
     "name": "stdout",
     "output_type": "stream",
     "text": [
      "Specificity : 0.7812\n"
     ]
    }
   ],
   "source": [
    "specificity = TN / (TN + FP)\n",
    "\n",
    "print('Specificity : {0:0.4f}'.format(specificity))"
   ]
  },
  {
   "cell_type": "markdown",
   "id": "72b08c30",
   "metadata": {
    "papermill": {
     "duration": 0.021844,
     "end_time": "2022-05-29T11:03:32.320393",
     "exception": false,
     "start_time": "2022-05-29T11:03:32.298549",
     "status": "completed"
    },
    "tags": []
   },
   "source": [
    "# KNN"
   ]
  },
  {
   "cell_type": "code",
   "execution_count": 27,
   "id": "6ded121d",
   "metadata": {
    "execution": {
     "iopub.execute_input": "2022-05-29T11:03:32.366613Z",
     "iopub.status.busy": "2022-05-29T11:03:32.365502Z",
     "iopub.status.idle": "2022-05-29T11:03:32.403066Z",
     "shell.execute_reply": "2022-05-29T11:03:32.402490Z"
    },
    "papermill": {
     "duration": 0.062322,
     "end_time": "2022-05-29T11:03:32.404843",
     "exception": false,
     "start_time": "2022-05-29T11:03:32.342521",
     "status": "completed"
    },
    "tags": []
   },
   "outputs": [
    {
     "data": {
      "text/plain": [
       "KNeighborsClassifier()"
      ]
     },
     "execution_count": 27,
     "metadata": {},
     "output_type": "execute_result"
    }
   ],
   "source": [
    "from sklearn.neighbors import KNeighborsClassifier,KNeighborsRegressor\n",
    "\n",
    "knn = KNeighborsClassifier(n_neighbors=5)\n",
    "knn.fit(X_train,y_train)"
   ]
  },
  {
   "cell_type": "code",
   "execution_count": 28,
   "id": "975b4396",
   "metadata": {
    "execution": {
     "iopub.execute_input": "2022-05-29T11:03:32.450223Z",
     "iopub.status.busy": "2022-05-29T11:03:32.449829Z",
     "iopub.status.idle": "2022-05-29T11:03:32.461453Z",
     "shell.execute_reply": "2022-05-29T11:03:32.460225Z"
    },
    "papermill": {
     "duration": 0.037165,
     "end_time": "2022-05-29T11:03:32.463778",
     "exception": false,
     "start_time": "2022-05-29T11:03:32.426613",
     "status": "completed"
    },
    "tags": []
   },
   "outputs": [
    {
     "data": {
      "text/plain": [
       "array([0, 0, 0, 0, 0, 1, 0, 0, 0, 0, 1, 1, 0, 1, 1, 1, 0, 1, 0, 1, 1, 0,\n",
       "       0, 0, 1, 1, 0, 1, 1, 1, 0, 0, 1, 1, 1, 0, 0, 1, 0, 0, 1, 1, 1, 0,\n",
       "       1, 1, 0, 1, 0, 1, 1, 1, 1, 1, 1, 0, 1, 1, 1, 1, 1])"
      ]
     },
     "execution_count": 28,
     "metadata": {},
     "output_type": "execute_result"
    }
   ],
   "source": [
    "result = knn.predict(X_test)\n",
    "result\n"
   ]
  },
  {
   "cell_type": "code",
   "execution_count": 29,
   "id": "a452c680",
   "metadata": {
    "execution": {
     "iopub.execute_input": "2022-05-29T11:03:32.510810Z",
     "iopub.status.busy": "2022-05-29T11:03:32.510361Z",
     "iopub.status.idle": "2022-05-29T11:03:32.521935Z",
     "shell.execute_reply": "2022-05-29T11:03:32.520462Z"
    },
    "papermill": {
     "duration": 0.038652,
     "end_time": "2022-05-29T11:03:32.524725",
     "exception": false,
     "start_time": "2022-05-29T11:03:32.486073",
     "status": "completed"
    },
    "tags": []
   },
   "outputs": [
    {
     "name": "stdout",
     "output_type": "stream",
     "text": [
      "              precision    recall  f1-score   support\n",
      "\n",
      "           0       0.85      0.81      0.83        27\n",
      "           1       0.86      0.88      0.87        34\n",
      "\n",
      "    accuracy                           0.85        61\n",
      "   macro avg       0.85      0.85      0.85        61\n",
      "weighted avg       0.85      0.85      0.85        61\n",
      "\n"
     ]
    }
   ],
   "source": [
    "print(metrics.classification_report(y_test,result))"
   ]
  },
  {
   "cell_type": "code",
   "execution_count": 30,
   "id": "fb609072",
   "metadata": {
    "execution": {
     "iopub.execute_input": "2022-05-29T11:03:32.571473Z",
     "iopub.status.busy": "2022-05-29T11:03:32.570825Z",
     "iopub.status.idle": "2022-05-29T11:03:32.579198Z",
     "shell.execute_reply": "2022-05-29T11:03:32.578188Z"
    },
    "papermill": {
     "duration": 0.033922,
     "end_time": "2022-05-29T11:03:32.581325",
     "exception": false,
     "start_time": "2022-05-29T11:03:32.547403",
     "status": "completed"
    },
    "tags": []
   },
   "outputs": [
    {
     "name": "stdout",
     "output_type": "stream",
     "text": [
      "Confusion matrix\n",
      "\n",
      " [[22  5]\n",
      " [ 4 30]]\n",
      "\n",
      "True Positives(TP) =  22\n",
      "\n",
      "True Negatives(TN) =  30\n",
      "\n",
      "False Positives(FP) =  5\n",
      "\n",
      "False Negatives(FN) =  4\n"
     ]
    }
   ],
   "source": [
    "cmknn = confusion_matrix(y_test, result)\n",
    "\n",
    "print('Confusion matrix\\n\\n', cmknn)\n",
    "\n",
    "print('\\nTrue Positives(TP) = ', cmknn[0,0])\n",
    "\n",
    "print('\\nTrue Negatives(TN) = ', cmknn[1,1])\n",
    "\n",
    "print('\\nFalse Positives(FP) = ', cmknn[0,1])\n",
    "\n",
    "print('\\nFalse Negatives(FN) = ', cmknn[1,0])"
   ]
  },
  {
   "cell_type": "code",
   "execution_count": 31,
   "id": "58f3896a",
   "metadata": {
    "execution": {
     "iopub.execute_input": "2022-05-29T11:03:32.627322Z",
     "iopub.status.busy": "2022-05-29T11:03:32.626919Z",
     "iopub.status.idle": "2022-05-29T11:03:32.813977Z",
     "shell.execute_reply": "2022-05-29T11:03:32.812450Z"
    },
    "papermill": {
     "duration": 0.213169,
     "end_time": "2022-05-29T11:03:32.816697",
     "exception": false,
     "start_time": "2022-05-29T11:03:32.603528",
     "status": "completed"
    },
    "tags": []
   },
   "outputs": [
    {
     "data": {
      "text/plain": [
       "<AxesSubplot:>"
      ]
     },
     "execution_count": 31,
     "metadata": {},
     "output_type": "execute_result"
    },
    {
     "data": {
      "image/png": "[encoded data removed]",
      "text/plain": [
       "<Figure size 432x288 with 2 Axes>"
      ]
     },
     "metadata": {
      "needs_background": "light"
     },
     "output_type": "display_data"
    }
   ],
   "source": [
    "cmknn_matrix = pd.DataFrame(data=cmknn, columns=['Actual Positive:1', 'Actual Negative:0'], \n",
    "                                 index=['Predict Positive:1', 'Predict Negative:0'])\n",
    "\n",
    "sns.heatmap(cmknn_matrix, annot=True, fmt='d', cmap='YlGnBu')"
   ]
  },
  {
   "cell_type": "code",
   "execution_count": 32,
   "id": "c0f58270",
   "metadata": {
    "execution": {
     "iopub.execute_input": "2022-05-29T11:03:32.863448Z",
     "iopub.status.busy": "2022-05-29T11:03:32.863011Z",
     "iopub.status.idle": "2022-05-29T11:03:32.868313Z",
     "shell.execute_reply": "2022-05-29T11:03:32.867332Z"
    },
    "papermill": {
     "duration": 0.031813,
     "end_time": "2022-05-29T11:03:32.871203",
     "exception": false,
     "start_time": "2022-05-29T11:03:32.839390",
     "status": "completed"
    },
    "tags": []
   },
   "outputs": [],
   "source": [
    "TP = cmknn[0,0]\n",
    "TN = cmknn[1,1]\n",
    "FP = cmknn[0,1]\n",
    "FN = cmknn[1,0]"
   ]
  },
  {
   "cell_type": "markdown",
   "id": "1e260d00",
   "metadata": {
    "papermill": {
     "duration": 0.022638,
     "end_time": "2022-05-29T11:03:32.917728",
     "exception": false,
     "start_time": "2022-05-29T11:03:32.895090",
     "status": "completed"
    },
    "tags": []
   },
   "source": [
    "## Doğruluk oranı"
   ]
  },
  {
   "cell_type": "code",
   "execution_count": 33,
   "id": "57eb3960",
   "metadata": {
    "execution": {
     "iopub.execute_input": "2022-05-29T11:03:32.965577Z",
     "iopub.status.busy": "2022-05-29T11:03:32.964918Z",
     "iopub.status.idle": "2022-05-29T11:03:32.970712Z",
     "shell.execute_reply": "2022-05-29T11:03:32.969665Z"
    },
    "papermill": {
     "duration": 0.031936,
     "end_time": "2022-05-29T11:03:32.972632",
     "exception": false,
     "start_time": "2022-05-29T11:03:32.940696",
     "status": "completed"
    },
    "tags": []
   },
   "outputs": [
    {
     "name": "stdout",
     "output_type": "stream",
     "text": [
      "Classification accuracy : 0.8525\n"
     ]
    }
   ],
   "source": [
    "classification_accuracy = (TP + TN) / float(TP + TN + FP + FN)\n",
    "\n",
    "print('Classification accuracy : {0:0.4f}'.format(classification_accuracy))"
   ]
  },
  {
   "cell_type": "markdown",
   "id": "b09ab2aa",
   "metadata": {
    "papermill": {
     "duration": 0.022578,
     "end_time": "2022-05-29T11:03:33.018016",
     "exception": false,
     "start_time": "2022-05-29T11:03:32.995438",
     "status": "completed"
    },
    "tags": []
   },
   "source": [
    "## Hata oranı"
   ]
  },
  {
   "cell_type": "code",
   "execution_count": 34,
   "id": "82dc19f5",
   "metadata": {
    "execution": {
     "iopub.execute_input": "2022-05-29T11:03:33.066023Z",
     "iopub.status.busy": "2022-05-29T11:03:33.065129Z",
     "iopub.status.idle": "2022-05-29T11:03:33.071517Z",
     "shell.execute_reply": "2022-05-29T11:03:33.070434Z"
    },
    "papermill": {
     "duration": 0.032404,
     "end_time": "2022-05-29T11:03:33.073448",
     "exception": false,
     "start_time": "2022-05-29T11:03:33.041044",
     "status": "completed"
    },
    "tags": []
   },
   "outputs": [
    {
     "name": "stdout",
     "output_type": "stream",
     "text": [
      "Classification error : 0.1475\n"
     ]
    }
   ],
   "source": [
    "classification_error = (FP + FN) / float(TP + TN + FP + FN)\n",
    "\n",
    "print('Classification error : {0:0.4f}'.format(classification_error))"
   ]
  },
  {
   "cell_type": "markdown",
   "id": "3ee1dcc8",
   "metadata": {
    "papermill": {
     "duration": 0.022969,
     "end_time": "2022-05-29T11:03:33.120063",
     "exception": false,
     "start_time": "2022-05-29T11:03:33.097094",
     "status": "completed"
    },
    "tags": []
   },
   "source": [
    "## Kesinlik"
   ]
  },
  {
   "cell_type": "code",
   "execution_count": 35,
   "id": "e22f3747",
   "metadata": {
    "execution": {
     "iopub.execute_input": "2022-05-29T11:03:33.168067Z",
     "iopub.status.busy": "2022-05-29T11:03:33.167380Z",
     "iopub.status.idle": "2022-05-29T11:03:33.172946Z",
     "shell.execute_reply": "2022-05-29T11:03:33.171943Z"
    },
    "papermill": {
     "duration": 0.032131,
     "end_time": "2022-05-29T11:03:33.175238",
     "exception": false,
     "start_time": "2022-05-29T11:03:33.143107",
     "status": "completed"
    },
    "tags": []
   },
   "outputs": [
    {
     "name": "stdout",
     "output_type": "stream",
     "text": [
      "Precision : 0.8148\n"
     ]
    }
   ],
   "source": [
    "precision = TP / float(TP + FP)\n",
    "\n",
    "\n",
    "print('Precision : {0:0.4f}'.format(precision))"
   ]
  },
  {
   "cell_type": "markdown",
   "id": "ed7ffd79",
   "metadata": {
    "papermill": {
     "duration": 0.022692,
     "end_time": "2022-05-29T11:03:33.221550",
     "exception": false,
     "start_time": "2022-05-29T11:03:33.198858",
     "status": "completed"
    },
    "tags": []
   },
   "source": [
    "## Duyarlılık"
   ]
  },
  {
   "cell_type": "code",
   "execution_count": 36,
   "id": "2247b4ce",
   "metadata": {
    "execution": {
     "iopub.execute_input": "2022-05-29T11:03:33.270998Z",
     "iopub.status.busy": "2022-05-29T11:03:33.270623Z",
     "iopub.status.idle": "2022-05-29T11:03:33.276243Z",
     "shell.execute_reply": "2022-05-29T11:03:33.275167Z"
    },
    "papermill": {
     "duration": 0.033667,
     "end_time": "2022-05-29T11:03:33.278877",
     "exception": false,
     "start_time": "2022-05-29T11:03:33.245210",
     "status": "completed"
    },
    "tags": []
   },
   "outputs": [
    {
     "name": "stdout",
     "output_type": "stream",
     "text": [
      "Recall or Sensitivity : 0.8462\n"
     ]
    }
   ],
   "source": [
    "recall = TP / float(TP + FN)\n",
    "\n",
    "print('Recall or Sensitivity : {0:0.4f}'.format(recall))"
   ]
  },
  {
   "cell_type": "markdown",
   "id": "6fa4cd4f",
   "metadata": {
    "papermill": {
     "duration": 0.0239,
     "end_time": "2022-05-29T11:03:33.326500",
     "exception": false,
     "start_time": "2022-05-29T11:03:33.302600",
     "status": "completed"
    },
    "tags": []
   },
   "source": [
    "## özgünlük"
   ]
  },
  {
   "cell_type": "code",
   "execution_count": 37,
   "id": "acceff2b",
   "metadata": {
    "execution": {
     "iopub.execute_input": "2022-05-29T11:03:33.374794Z",
     "iopub.status.busy": "2022-05-29T11:03:33.374359Z",
     "iopub.status.idle": "2022-05-29T11:03:33.380592Z",
     "shell.execute_reply": "2022-05-29T11:03:33.379627Z"
    },
    "papermill": {
     "duration": 0.032812,
     "end_time": "2022-05-29T11:03:33.382726",
     "exception": false,
     "start_time": "2022-05-29T11:03:33.349914",
     "status": "completed"
    },
    "tags": []
   },
   "outputs": [
    {
     "name": "stdout",
     "output_type": "stream",
     "text": [
      "Specificity : 0.8571\n"
     ]
    }
   ],
   "source": [
    "specificity = TN / (TN + FP)\n",
    "\n",
    "print('Specificity : {0:0.4f}'.format(specificity))"
   ]
  }
 ],
 "metadata": {
  "kernelspec": {
   "display_name": "Python 3",
   "language": "python",
   "name": "python3"
  },
  "language_info": {
   "codemirror_mode": {
    "name": "ipython",
    "version": 3
   },
   "file_extension": ".py",
   "mimetype": "text/x-python",
   "name": "python",
   "nbconvert_exporter": "python",
   "pygments_lexer": "ipython3",
   "version": "3.7.12"
  },
  "papermill": {
   "default_parameters": {},
   "duration": 16.790282,
   "end_time": "2022-05-29T11:03:34.529835",
   "environment_variables": {},
   "exception": null,
   "input_path": "__notebook__.ipynb",
   "output_path": "__notebook__.ipynb",
   "parameters": {},
   "start_time": "2022-05-29T11:03:17.739553",
   "version": "2.3.4"
  }
 },
 "nbformat": 4,
 "nbformat_minor": 5
}
